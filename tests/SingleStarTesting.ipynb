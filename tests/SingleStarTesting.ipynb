{
 "cells": [
  {
   "cell_type": "code",
   "execution_count": 1,
   "id": "5081ab13-2176-499e-a52a-862b5ff93f91",
   "metadata": {},
   "outputs": [
    {
     "ename": "ImportError",
     "evalue": "cannot import name 'safe_theta_extraction' from 'radpy.UDfitting' (C:\\Users\\oxfor\\anaconda3\\lib\\site-packages\\radpy\\UDfitting.py)",
     "output_type": "error",
     "traceback": [
      "\u001b[1;31m---------------------------------------------------------------------------\u001b[0m",
      "\u001b[1;31mImportError\u001b[0m                               Traceback (most recent call last)",
      "Cell \u001b[1;32mIn[1], line 3\u001b[0m\n\u001b[0;32m      1\u001b[0m \u001b[38;5;28;01mfrom\u001b[39;00m \u001b[38;5;21;01mradpy\u001b[39;00m\u001b[38;5;21;01m.\u001b[39;00m\u001b[38;5;21;01mstellar\u001b[39;00m \u001b[38;5;28;01mimport\u001b[39;00m \u001b[38;5;241m*\u001b[39m\n\u001b[0;32m      2\u001b[0m \u001b[38;5;28;01mfrom\u001b[39;00m \u001b[38;5;21;01mradpy\u001b[39;00m\u001b[38;5;21;01m.\u001b[39;00m\u001b[38;5;21;01mdatareadandformat\u001b[39;00m \u001b[38;5;28;01mimport\u001b[39;00m \u001b[38;5;241m*\u001b[39m\n\u001b[1;32m----> 3\u001b[0m \u001b[38;5;28;01mfrom\u001b[39;00m \u001b[38;5;21;01mradpy\u001b[39;00m\u001b[38;5;21;01m.\u001b[39;00m\u001b[38;5;21;01mplotting\u001b[39;00m \u001b[38;5;28;01mimport\u001b[39;00m plot_v2_fit\n\u001b[0;32m      4\u001b[0m \u001b[38;5;28;01mfrom\u001b[39;00m \u001b[38;5;21;01mradpy\u001b[39;00m\u001b[38;5;21;01m.\u001b[39;00m\u001b[38;5;21;01mLDfitting\u001b[39;00m \u001b[38;5;28;01mimport\u001b[39;00m initial_LDfit, run_LDfit\n\u001b[0;32m      5\u001b[0m \u001b[38;5;28;01mfrom\u001b[39;00m \u001b[38;5;21;01mradpy\u001b[39;00m\u001b[38;5;21;01m.\u001b[39;00m\u001b[38;5;21;01mUDfitting\u001b[39;00m \u001b[38;5;28;01mimport\u001b[39;00m initial_UDfit, run_UDfit, udfit_values\n",
      "File \u001b[1;32m~\\anaconda3\\lib\\site-packages\\radpy\\plotting.py:5\u001b[0m\n\u001b[0;32m      3\u001b[0m \u001b[38;5;28;01mfrom\u001b[39;00m \u001b[38;5;21;01mmatplotlib\u001b[39;00m\u001b[38;5;21;01m.\u001b[39;00m\u001b[38;5;21;01mticker\u001b[39;00m \u001b[38;5;28;01mimport\u001b[39;00m (MultipleLocator, FormatStrFormatter, AutoMinorLocator)\n\u001b[0;32m      4\u001b[0m \u001b[38;5;28;01mfrom\u001b[39;00m \u001b[38;5;21;01mradpy\u001b[39;00m\u001b[38;5;21;01m.\u001b[39;00m\u001b[38;5;21;01mUDfitting\u001b[39;00m \u001b[38;5;28;01mimport\u001b[39;00m UDV2\n\u001b[1;32m----> 5\u001b[0m \u001b[38;5;28;01mfrom\u001b[39;00m \u001b[38;5;21;01mradpy\u001b[39;00m\u001b[38;5;21;01m.\u001b[39;00m\u001b[38;5;21;01mLDfitting\u001b[39;00m \u001b[38;5;28;01mimport\u001b[39;00m V2\n\u001b[0;32m      6\u001b[0m plt\u001b[38;5;241m.\u001b[39mrcParams[\u001b[38;5;124m'\u001b[39m\u001b[38;5;124mtext.usetex\u001b[39m\u001b[38;5;124m'\u001b[39m] \u001b[38;5;241m=\u001b[39m \u001b[38;5;28;01mTrue\u001b[39;00m\n\u001b[0;32m      9\u001b[0m \u001b[38;5;66;03m# Function to bin the PAVO data\u001b[39;00m\n",
      "File \u001b[1;32m~\\anaconda3\\lib\\site-packages\\radpy\\LDfitting.py:8\u001b[0m\n\u001b[0;32m      6\u001b[0m \u001b[38;5;28;01mfrom\u001b[39;00m \u001b[38;5;21;01mradpy\u001b[39;00m\u001b[38;5;21;01m.\u001b[39;00m\u001b[38;5;21;01mstellar\u001b[39;00m \u001b[38;5;28;01mimport\u001b[39;00m temp\n\u001b[0;32m      7\u001b[0m \u001b[38;5;28;01mfrom\u001b[39;00m \u001b[38;5;21;01mastropy\u001b[39;00m\u001b[38;5;21;01m.\u001b[39;00m\u001b[38;5;21;01mstats\u001b[39;00m \u001b[38;5;28;01mimport\u001b[39;00m mad_std\n\u001b[1;32m----> 8\u001b[0m \u001b[38;5;28;01mfrom\u001b[39;00m \u001b[38;5;21;01mradpy\u001b[39;00m\u001b[38;5;21;01m.\u001b[39;00m\u001b[38;5;21;01mUDfitting\u001b[39;00m \u001b[38;5;28;01mimport\u001b[39;00m chis, weight_avg, percent_diff, safe_theta_extraction\n\u001b[0;32m      9\u001b[0m \u001b[38;5;28;01mfrom\u001b[39;00m \u001b[38;5;21;01mradpy\u001b[39;00m\u001b[38;5;21;01m.\u001b[39;00m\u001b[38;5;21;01mlimbdarkcoeffs\u001b[39;00m \u001b[38;5;28;01mimport\u001b[39;00m ldc_calc\n\u001b[0;32m     11\u001b[0m \u001b[38;5;28;01mimport\u001b[39;00m \u001b[38;5;21;01mwarnings\u001b[39;00m\n",
      "\u001b[1;31mImportError\u001b[0m: cannot import name 'safe_theta_extraction' from 'radpy.UDfitting' (C:\\Users\\oxfor\\anaconda3\\lib\\site-packages\\radpy\\UDfitting.py)"
     ]
    }
   ],
   "source": [
    "from radpy.stellar import *\n",
    "from radpy.datareadandformat import *\n",
    "from radpy.plotting import plot_v2_fit\n",
    "from radpy.LDfitting import initial_LDfit, run_LDfit\n",
    "from radpy.UDfitting import initial_UDfit, run_UDfit, udfit_values"
   ]
  },
  {
   "cell_type": "code",
   "execution_count": null,
   "id": "14de3126-1f51-4963-a48d-7a94b8f3a689",
   "metadata": {},
   "outputs": [],
   "source": [
    "filenamec = \"C:\\\\Users\\\\oxfor\\\\Research\\\\rsadpy\\\\tests\\\\test_data\\\\SingleStarTest\\\\ClassicData.csv\"\n",
    "filenamep = \"C:\\\\Users\\\\oxfor\\\\Research\\\\rsadpy\\\\tests\\\\test_data\\\\SingleStarTest\\\\PAVOdata.csv\"\n",
    "filenamev = \"C:\\\\Users\\\\oxfor\\\\Research\\\\rsadpy\\\\tests\\\\test_data\\\\SingleStarTest\\\\Vegadata.csv\"\n",
    "filenamem = \"C:\\\\Users\\\\oxfor\\\\Research\\\\rsadpy\\\\tests\\\\test_data\\\\SingleStarTest\\\\MIRCX_June11162025_HD_219134.oifits\"\n",
    "filenamemy = \"C:\\\\Users\\\\oxfor\\\\Research\\\\rsadpy\\\\tests\\\\test_data\\\\SingleStarTest\\\\MYSTIC_June11162025_HD_219134.oifits\"\n",
    "#filenames = \"C:\\\\Users\\\\oxfor\\\\Research\\\\rsadpy\\\\tests\\\\test_data\\\\SingleStarTest\\\\SPICA_01_2025-06-11T11-16-21_HD_219134_L2.fits\""
   ]
  },
  {
   "cell_type": "code",
   "execution_count": null,
   "id": "44f80e9c-6ba8-4ce1-8edf-ddbf1b48f8b2",
   "metadata": {},
   "outputs": [],
   "source": [
    "datav, num_brack_v = filename_extension(filenamev, 'V')\n",
    "datac, num_brack_c = filename_extension(filenamec, 'C')\n",
    "datap, num_brack_p = filename_extension(filenamep, 'P')\n",
    "datam, num_brack_m = filename_extension(filenamem, 'M')\n",
    "datas, num_brack_s = filename_extension(filenames, 'S')\n",
    "datamy, num_brack_my = filename_extension(filenamemy, 'My')"
   ]
  },
  {
   "cell_type": "code",
   "execution_count": null,
   "id": "55b4307e-32a9-46df-afb4-3fc50cf59a57",
   "metadata": {},
   "outputs": [],
   "source": [
    "datamy"
   ]
  },
  {
   "cell_type": "code",
   "execution_count": null,
   "id": "7218c582-0b97-43fc-a4f5-6f62ca04b9ca",
   "metadata": {},
   "outputs": [],
   "source": [
    "pavo_data = PavoData(datap)\n",
    "vega_data = VegaData(datav)\n",
    "classic_data = ClassicData(datac)\n",
    "mircx_data = MircxData(datam)\n",
    "mystic_data = MysticData(datamy)\n",
    "spica_data = SpicaData(datas)"
   ]
  },
  {
   "cell_type": "code",
   "execution_count": null,
   "id": "42f725e2-83d6-483d-81bb-d08b653b5ec9",
   "metadata": {},
   "outputs": [],
   "source": [
    "df_m = mircx_data.make_df()\n",
    "df_my = mystic_data.make_df()\n",
    "df_p = pavo_data.make_df()\n",
    "df_v = vega_data.make_df()\n",
    "df_c = classic_data.make_df()\n",
    "df_s = spica_data.make_df()"
   ]
  },
  {
   "cell_type": "code",
   "execution_count": null,
   "id": "e3fd6a51-d824-4a9d-9f07-05e2bc8c871e",
   "metadata": {},
   "outputs": [],
   "source": [
    "df_m"
   ]
  },
  {
   "cell_type": "code",
   "execution_count": null,
   "id": "c346ba89-2c61-4cc6-89fe-1eb1f54e0170",
   "metadata": {},
   "outputs": [],
   "source": [
    "b, v2, dv2, wave, band, brack, inst = combined(df_p, df_c, df_v, df_m,df_my, df_s)\n",
    "spf = b/wave"
   ]
  },
  {
   "cell_type": "code",
   "execution_count": null,
   "id": "f813475d-8dcb-453b-bada-38a65bfa12ac",
   "metadata": {},
   "outputs": [],
   "source": [
    "star = StellarParams()\n",
    "p = 152.864\n",
    "dp = 0.0494\n",
    "f = 21.751\n",
    "df = 0.585\n",
    "logg = 4.5\n",
    "dlogg = 0.1\n",
    "m = 0.09\n",
    "dm = 0.08\n",
    "\n",
    "star.fbol = f\n",
    "star.fbol_err = df\n",
    "star.logg = logg\n",
    "star.logg_err = dlogg\n",
    "star.feh = m\n",
    "star.feh_err = dm\n",
    "star.plx = p\n",
    "star.plx_err = dp"
   ]
  },
  {
   "cell_type": "code",
   "execution_count": null,
   "id": "32ebce57-9dad-4b0d-9d15-3aab058bb9c0",
   "metadata": {},
   "outputs": [],
   "source": [
    "D, dD = distances('HD 219134', verbose = True)\n",
    "star.dist = D\n",
    "star.dist_err = dD"
   ]
  },
  {
   "cell_type": "code",
   "execution_count": null,
   "id": "2c95a288-f1b1-45cf-8074-56e64dbc71c1",
   "metadata": {},
   "outputs": [],
   "source": [
    "theta1, dtheta1, chisqr1 = initial_UDfit(spf, v2, dv2, 0.4, star, verbose = True)\n"
   ]
  },
  {
   "cell_type": "code",
   "execution_count": null,
   "id": "fea80def-d5b8-46d7-921d-e2c7be74364a",
   "metadata": {},
   "outputs": [],
   "source": [
    "theta2, dtheta2, chisqr2 = initial_LDfit(spf, v2, dv2, star, 'R', verbose = True)"
   ]
  },
  {
   "cell_type": "code",
   "execution_count": null,
   "id": "43ae08e0-ad3a-4f2b-9a12-2cbb72112234",
   "metadata": {},
   "outputs": [],
   "source": [
    "results = run_UDfit(10, 10, datasets = [pavo_data, vega_data, classic_data, mircx_data,mystic_data, spica_data], stellar_params = star)"
   ]
  },
  {
   "cell_type": "code",
   "execution_count": null,
   "id": "4bfbc530-5271-4f36-862f-76ba6253d9a6",
   "metadata": {},
   "outputs": [],
   "source": [
    "udfit_values(spf, v2, dv2, results, stellar_params = star, verbose = True)"
   ]
  },
  {
   "cell_type": "code",
   "execution_count": null,
   "id": "857adb61-77c2-430b-b54e-5170f1c974d5",
   "metadata": {},
   "outputs": [],
   "source": [
    "thetaf, dthetaf, tf, dtf, ldcsf, chisf = run_LDfit(2, 2, ogdata = [spf, v2, dv2], datasets = [pavo_data, vega_data, classic_data, mircx_data, mystic_data, spica_data], stellar_params = star, verbose = True)"
   ]
  },
  {
   "cell_type": "code",
   "execution_count": null,
   "id": "b2577369-553a-415a-8627-c9eaccee3279",
   "metadata": {},
   "outputs": [],
   "source": [
    "calc_star_params(star, verbose = True)"
   ]
  },
  {
   "cell_type": "code",
   "execution_count": null,
   "id": "1259816e-53da-4da9-82b0-5c5417d25e80",
   "metadata": {},
   "outputs": [],
   "source": [
    "data_dict = {'pavo':pavo_data, 'vega':vega_data, 'classic':classic_data, 'mircx':mircx_data,'mystic':mystic_data, 'spica':spica_data}\n"
   ]
  },
  {
   "cell_type": "code",
   "execution_count": null,
   "id": "621768dc-ebb3-476d-ba69-090ec3bad260",
   "metadata": {},
   "outputs": [],
   "source": [
    "plot_v2_fit(\n",
    "    data_dict=data_dict,\n",
    "    star=star,        \n",
    "    datasets_to_plot=['pavo', 'classic', 'vega', 'mircx', 'mystic'],\n",
    "    to_bin = ['mystic', 'mircx', 'pavo'],\n",
    "    plot_udmodel = True,\n",
    "    title = rf'$\\rm HD~219134$',\n",
    "    #set_axis= [-0.05, 5e8, -0.05, 1.1],\n",
    "    eq_text=True,\n",
    "    show = True\n",
    "    )"
   ]
  },
  {
   "cell_type": "code",
   "execution_count": null,
   "id": "6432ef88-80b1-4777-a4d5-17e6d89757fd",
   "metadata": {},
   "outputs": [],
   "source": [
    "plot_v2_fit(\n",
    "    data_dict=data_dict,\n",
    "    star=star,        \n",
    "    datasets_to_plot=['mircx'],\n",
    "    plot_udmodel = True,\n",
    "    title = rf'$\\rm HD~219134$',\n",
    "    #set_axis= [-0.05, 5e8, -0.05, 1.1],\n",
    "    eq_text=True,\n",
    "    show = True\n",
    "    )"
   ]
  },
  {
   "cell_type": "code",
   "execution_count": null,
   "id": "af488c9e-9af5-4763-b8a8-2d5649924a40",
   "metadata": {},
   "outputs": [],
   "source": []
  },
  {
   "cell_type": "code",
   "execution_count": null,
   "id": "3a63611f-f3f0-4b42-9e95-5d3f8f7999aa",
   "metadata": {},
   "outputs": [],
   "source": [
    "datas"
   ]
  },
  {
   "cell_type": "code",
   "execution_count": null,
   "id": "f2e1df49-6b5d-4bad-9b1b-b247ef0a8799",
   "metadata": {},
   "outputs": [],
   "source": [
    "ucoord = datas['UCOORD[m]']\n",
    "vcoord = datas['VCOORD[m]']\n",
    "v2 = datas['V2']\n",
    "wave = datas['Eff_wave[m]']\n",
    "import numpy as np\n",
    "base = np.sqrt(ucoord**2 + vcoord**2)\n",
    "spf = base/wave"
   ]
  },
  {
   "cell_type": "code",
   "execution_count": null,
   "id": "e70d773b-a81a-47ba-9dce-88116b6876c7",
   "metadata": {},
   "outputs": [],
   "source": [
    "pip list"
   ]
  },
  {
   "cell_type": "code",
   "execution_count": null,
   "id": "adc93a8e-bb84-4ebe-ac60-e04ee90e5a5e",
   "metadata": {},
   "outputs": [],
   "source": [
    "import matplotlib.pyplot as plt"
   ]
  },
  {
   "cell_type": "code",
   "execution_count": null,
   "id": "6df6a7fd-34fa-4461-8bda-af620a7f6162",
   "metadata": {},
   "outputs": [],
   "source": [
    "plt.close()\n",
    "plt.plot(df_m['B']/df_m['Wave'], df_m['V2'], '.', label = 'MIRCX')\n",
    "plt.plot(df_p['B']/df_p['Wave'], df_p['V2'], '.', label = 'PAVO')\n",
    "plt.plot(df_c['B']/df_c['Wave'], df_c['V2'], '.', label = 'Classic')\n",
    "plt.plot(df_v['B']/df_v['Wave'], df_v['V2'], '.', label = 'VEGA')\n",
    "plt.plot(df_s['B']/df_s['Wave'], df_s['V2'], '.', label = 'SPICA')\n",
    "plt.legend()\n",
    "plt.show()"
   ]
  },
  {
   "cell_type": "code",
   "execution_count": null,
   "id": "ddf10d05-244b-42b8-8dc3-87f54aea1362",
   "metadata": {},
   "outputs": [],
   "source": [
    "datas = oifits_to_pandas(filenames, 'S')"
   ]
  },
  {
   "cell_type": "code",
   "execution_count": null,
   "id": "f8498e43-3e67-4f0f-930c-2cf539bab9d4",
   "metadata": {},
   "outputs": [],
   "source": [
    "ucoord = datas['UCOORD[m]']\n",
    "vcoord = datas['VCOORD[m]']\n",
    "v2 = datas['V2']\n",
    "wave = datas['Eff_wave[m]']\n",
    "import numpy as np\n",
    "base = np.sqrt(ucoord**2 + vcoord**2)\n",
    "spf = base/wave"
   ]
  },
  {
   "cell_type": "code",
   "execution_count": null,
   "id": "268a556e-2e47-4d5f-97f9-c81fec5b110d",
   "metadata": {},
   "outputs": [],
   "source": [
    "plt.plot(spf, v2, '.')"
   ]
  },
  {
   "cell_type": "code",
   "execution_count": null,
   "id": "a4c78f3c-d7b0-4928-af2f-f996f0c3da6a",
   "metadata": {},
   "outputs": [],
   "source": []
  }
 ],
 "metadata": {
  "kernelspec": {
   "display_name": "Python 3 (ipykernel)",
   "language": "python",
   "name": "python3"
  },
  "language_info": {
   "codemirror_mode": {
    "name": "ipython",
    "version": 3
   },
   "file_extension": ".py",
   "mimetype": "text/x-python",
   "name": "python",
   "nbconvert_exporter": "python",
   "pygments_lexer": "ipython3",
   "version": "3.10.14"
  }
 },
 "nbformat": 4,
 "nbformat_minor": 5
}
