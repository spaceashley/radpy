{
 "cells": [
  {
   "cell_type": "code",
   "execution_count": 1,
   "id": "5081ab13-2176-499e-a52a-862b5ff93f91",
   "metadata": {},
   "outputs": [],
   "source": [
    "from radpy.stellar import *\n",
    "from radpy.datareadandformat import *\n",
    "from radpy.plotting import plot_v2_fit\n",
    "from radpy.LDfitting import initial_LDfit, run_LDfit\n",
    "from radpy.UDfitting import initial_UDfit, run_UDfit, udfit_values"
   ]
  },
  {
   "cell_type": "code",
   "execution_count": 2,
   "id": "14de3126-1f51-4963-a48d-7a94b8f3a689",
   "metadata": {},
   "outputs": [],
   "source": [
    "filenamec = \"C:\\\\Users\\\\oxfor\\\\Research\\\\rsadpy\\\\tests\\\\test_data\\\\SingleStarTest\\\\ClassicData.csv\"\n",
    "filenamep = \"C:\\\\Users\\\\oxfor\\\\Research\\\\rsadpy\\\\tests\\\\test_data\\\\SingleStarTest\\\\PAVOdata.csv\"\n",
    "filenamev = \"C:\\\\Users\\\\oxfor\\\\Research\\\\rsadpy\\\\tests\\\\test_data\\\\SingleStarTest\\\\Vegadata.csv\"\n",
    "filenamem = \"C:\\\\Users\\\\oxfor\\\\Research\\\\rsadpy\\\\tests\\\\test_data\\\\SingleStarTest\\\\MIRCX_June11162025_HD_219134.oifits\"\n",
    "filenamemy = \"C:\\\\Users\\\\oxfor\\\\Research\\\\rsadpy\\\\tests\\\\test_data\\\\SingleStarTest\\\\MYSTIC_June11162025_HD_219134.oifits\"\n",
    "#filenames = \"C:\\\\Users\\\\oxfor\\\\Research\\\\rsadpy\\\\tests\\\\test_data\\\\SingleStarTest\\\\SPICA_01_2025-06-11T11-16-21_HD_219134_L2.fits\""
   ]
  },
  {
   "cell_type": "code",
   "execution_count": 3,
   "id": "44f80e9c-6ba8-4ce1-8edf-ddbf1b48f8b2",
   "metadata": {},
   "outputs": [
    {
     "name": "stdout",
     "output_type": "stream",
     "text": [
      "Number of brackets: 20\n",
      "Number of brackets: 1\n",
      "Number of brackets: 17\n",
      "Number of brackets: 18\n"
     ]
    },
    {
     "ename": "FileNotFoundError",
     "evalue": "[Errno 2] No such file or directory: 'C:\\\\Users\\\\oxfor\\\\Research\\\\rsadpy\\\\tests\\\\test_data\\\\SingleStarTest\\\\MYSTIC_June11162025_HD_219134.oifits'",
     "output_type": "error",
     "traceback": [
      "\u001b[1;31m---------------------------------------------------------------------------\u001b[0m",
      "\u001b[1;31mFileNotFoundError\u001b[0m                         Traceback (most recent call last)",
      "Cell \u001b[1;32mIn[3], line 6\u001b[0m\n\u001b[0;32m      4\u001b[0m datam, num_brack_m \u001b[38;5;241m=\u001b[39m filename_extension(filenamem, \u001b[38;5;124m'\u001b[39m\u001b[38;5;124mM\u001b[39m\u001b[38;5;124m'\u001b[39m)\n\u001b[0;32m      5\u001b[0m \u001b[38;5;66;03m#datas, num_brack_s = filename_extension(filenames, 'S')\u001b[39;00m\n\u001b[1;32m----> 6\u001b[0m datamy, num_brack_my \u001b[38;5;241m=\u001b[39m \u001b[43mfilename_extension\u001b[49m\u001b[43m(\u001b[49m\u001b[43mfilenamemy\u001b[49m\u001b[43m,\u001b[49m\u001b[43m \u001b[49m\u001b[38;5;124;43m'\u001b[39;49m\u001b[38;5;124;43mMy\u001b[39;49m\u001b[38;5;124;43m'\u001b[39;49m\u001b[43m)\u001b[49m\n",
      "File \u001b[1;32m~\\anaconda3\\lib\\site-packages\\radpy\\datareadandformat.py:117\u001b[0m, in \u001b[0;36mfilename_extension\u001b[1;34m(filename, inst_name, verbose, debug)\u001b[0m\n\u001b[0;32m    113\u001b[0m     \u001b[38;5;28;01mreturn\u001b[39;00m sorted_df, num_brackets\n\u001b[0;32m    116\u001b[0m \u001b[38;5;28;01melif\u001b[39;00m filename\u001b[38;5;241m.\u001b[39mendswith(\u001b[38;5;124m'\u001b[39m\u001b[38;5;124m.oifits\u001b[39m\u001b[38;5;124m'\u001b[39m) \u001b[38;5;129;01mor\u001b[39;00m filename\u001b[38;5;241m.\u001b[39mendswith(\u001b[38;5;124m'\u001b[39m\u001b[38;5;124m.fits\u001b[39m\u001b[38;5;124m'\u001b[39m):\n\u001b[1;32m--> 117\u001b[0m     df \u001b[38;5;241m=\u001b[39m \u001b[43moifits_to_pandas\u001b[49m\u001b[43m(\u001b[49m\u001b[43mfilename\u001b[49m\u001b[43m,\u001b[49m\u001b[43m \u001b[49m\u001b[43minst_name\u001b[49m\u001b[43m)\u001b[49m\n\u001b[0;32m    118\u001b[0m     num_brackets \u001b[38;5;241m=\u001b[39m df[\u001b[38;5;124m'\u001b[39m\u001b[38;5;124mBracket\u001b[39m\u001b[38;5;124m'\u001b[39m]\u001b[38;5;241m.\u001b[39mmax()\n\u001b[0;32m    119\u001b[0m     \u001b[38;5;28mprint\u001b[39m(\u001b[38;5;124m'\u001b[39m\u001b[38;5;124mNumber of brackets:\u001b[39m\u001b[38;5;124m'\u001b[39m, num_brackets)\n",
      "File \u001b[1;32m~\\anaconda3\\lib\\site-packages\\radpy\\datareadandformat.py:16\u001b[0m, in \u001b[0;36moifits_to_pandas\u001b[1;34m(filename, inst_name)\u001b[0m\n\u001b[0;32m      6\u001b[0m \u001b[38;5;28;01mdef\u001b[39;00m \u001b[38;5;21moifits_to_pandas\u001b[39m(filename, inst_name):\n\u001b[0;32m      7\u001b[0m     \u001b[38;5;66;03m# Reads in an oifits file and converts into a pandas dataframe with the necessary information needed for RADPy\u001b[39;00m\n\u001b[0;32m      8\u001b[0m     \u001b[38;5;66;03m# Extracts the following data:\u001b[39;00m\n\u001b[1;32m   (...)\u001b[0m\n\u001b[0;32m     13\u001b[0m     \u001b[38;5;66;03m# Explodes the dataframe by extracting out each list for V2, V2_err, wavelength, and bandwidth\u001b[39;00m\n\u001b[0;32m     14\u001b[0m     \u001b[38;5;66;03m# returns the exploded, sorted, and bracket labeled df\u001b[39;00m\n\u001b[1;32m---> 16\u001b[0m     data \u001b[38;5;241m=\u001b[39m \u001b[43mfits\u001b[49m\u001b[38;5;241;43m.\u001b[39;49m\u001b[43mopen\u001b[49m\u001b[43m(\u001b[49m\u001b[43mfilename\u001b[49m\u001b[43m)\u001b[49m\n\u001b[0;32m     17\u001b[0m     v2 \u001b[38;5;241m=\u001b[39m data[\u001b[38;5;124m\"\u001b[39m\u001b[38;5;124mOI_VIS2\u001b[39m\u001b[38;5;124m\"\u001b[39m]\u001b[38;5;241m.\u001b[39mdata[\u001b[38;5;124m\"\u001b[39m\u001b[38;5;124mVIS2DATA\u001b[39m\u001b[38;5;124m\"\u001b[39m]\n\u001b[0;32m     18\u001b[0m     dv2 \u001b[38;5;241m=\u001b[39m data[\u001b[38;5;124m\"\u001b[39m\u001b[38;5;124mOI_VIS2\u001b[39m\u001b[38;5;124m\"\u001b[39m]\u001b[38;5;241m.\u001b[39mdata[\u001b[38;5;124m\"\u001b[39m\u001b[38;5;124mVIS2ERR\u001b[39m\u001b[38;5;124m\"\u001b[39m]\n",
      "File \u001b[1;32m~\\anaconda3\\lib\\site-packages\\astropy\\io\\fits\\hdu\\hdulist.py:223\u001b[0m, in \u001b[0;36mfitsopen\u001b[1;34m(name, mode, memmap, save_backup, cache, lazy_load_hdus, ignore_missing_simple, use_fsspec, fsspec_kwargs, decompress_in_memory, **kwargs)\u001b[0m\n\u001b[0;32m    220\u001b[0m \u001b[38;5;28;01mif\u001b[39;00m \u001b[38;5;129;01mnot\u001b[39;00m name:\n\u001b[0;32m    221\u001b[0m     \u001b[38;5;28;01mraise\u001b[39;00m \u001b[38;5;167;01mValueError\u001b[39;00m(\u001b[38;5;124mf\u001b[39m\u001b[38;5;124m\"\u001b[39m\u001b[38;5;124mEmpty filename: \u001b[39m\u001b[38;5;132;01m{\u001b[39;00mname\u001b[38;5;132;01m!r}\u001b[39;00m\u001b[38;5;124m\"\u001b[39m)\n\u001b[1;32m--> 223\u001b[0m \u001b[38;5;28;01mreturn\u001b[39;00m HDUList\u001b[38;5;241m.\u001b[39mfromfile(\n\u001b[0;32m    224\u001b[0m     name,\n\u001b[0;32m    225\u001b[0m     mode,\n\u001b[0;32m    226\u001b[0m     memmap,\n\u001b[0;32m    227\u001b[0m     save_backup,\n\u001b[0;32m    228\u001b[0m     cache,\n\u001b[0;32m    229\u001b[0m     lazy_load_hdus,\n\u001b[0;32m    230\u001b[0m     ignore_missing_simple,\n\u001b[0;32m    231\u001b[0m     use_fsspec\u001b[38;5;241m=\u001b[39muse_fsspec,\n\u001b[0;32m    232\u001b[0m     fsspec_kwargs\u001b[38;5;241m=\u001b[39mfsspec_kwargs,\n\u001b[0;32m    233\u001b[0m     decompress_in_memory\u001b[38;5;241m=\u001b[39mdecompress_in_memory,\n\u001b[0;32m    234\u001b[0m     \u001b[38;5;241m*\u001b[39m\u001b[38;5;241m*\u001b[39mkwargs,\n\u001b[0;32m    235\u001b[0m )\n",
      "File \u001b[1;32m~\\anaconda3\\lib\\site-packages\\astropy\\io\\fits\\hdu\\hdulist.py:487\u001b[0m, in \u001b[0;36mHDUList.fromfile\u001b[1;34m(cls, fileobj, mode, memmap, save_backup, cache, lazy_load_hdus, ignore_missing_simple, **kwargs)\u001b[0m\n\u001b[0;32m    468\u001b[0m \u001b[38;5;129m@classmethod\u001b[39m\n\u001b[0;32m    469\u001b[0m \u001b[38;5;28;01mdef\u001b[39;00m \u001b[38;5;21mfromfile\u001b[39m(\n\u001b[0;32m    470\u001b[0m     \u001b[38;5;28mcls\u001b[39m,\n\u001b[1;32m   (...)\u001b[0m\n\u001b[0;32m    478\u001b[0m     \u001b[38;5;241m*\u001b[39m\u001b[38;5;241m*\u001b[39mkwargs,\n\u001b[0;32m    479\u001b[0m ):\n\u001b[0;32m    480\u001b[0m \u001b[38;5;250m    \u001b[39m\u001b[38;5;124;03m\"\"\"\u001b[39;00m\n\u001b[0;32m    481\u001b[0m \u001b[38;5;124;03m    Creates an `HDUList` instance from a file-like object.\u001b[39;00m\n\u001b[0;32m    482\u001b[0m \n\u001b[1;32m   (...)\u001b[0m\n\u001b[0;32m    485\u001b[0m \u001b[38;5;124;03m    documentation for details of the parameters accepted by this method).\u001b[39;00m\n\u001b[0;32m    486\u001b[0m \u001b[38;5;124;03m    \"\"\"\u001b[39;00m\n\u001b[1;32m--> 487\u001b[0m     \u001b[38;5;28;01mreturn\u001b[39;00m \u001b[38;5;28mcls\u001b[39m\u001b[38;5;241m.\u001b[39m_readfrom(\n\u001b[0;32m    488\u001b[0m         fileobj\u001b[38;5;241m=\u001b[39mfileobj,\n\u001b[0;32m    489\u001b[0m         mode\u001b[38;5;241m=\u001b[39mmode,\n\u001b[0;32m    490\u001b[0m         memmap\u001b[38;5;241m=\u001b[39mmemmap,\n\u001b[0;32m    491\u001b[0m         save_backup\u001b[38;5;241m=\u001b[39msave_backup,\n\u001b[0;32m    492\u001b[0m         cache\u001b[38;5;241m=\u001b[39mcache,\n\u001b[0;32m    493\u001b[0m         ignore_missing_simple\u001b[38;5;241m=\u001b[39mignore_missing_simple,\n\u001b[0;32m    494\u001b[0m         lazy_load_hdus\u001b[38;5;241m=\u001b[39mlazy_load_hdus,\n\u001b[0;32m    495\u001b[0m         \u001b[38;5;241m*\u001b[39m\u001b[38;5;241m*\u001b[39mkwargs,\n\u001b[0;32m    496\u001b[0m     )\n",
      "File \u001b[1;32m~\\anaconda3\\lib\\site-packages\\astropy\\io\\fits\\hdu\\hdulist.py:1169\u001b[0m, in \u001b[0;36mHDUList._readfrom\u001b[1;34m(cls, fileobj, data, mode, memmap, cache, lazy_load_hdus, ignore_missing_simple, use_fsspec, fsspec_kwargs, decompress_in_memory, **kwargs)\u001b[0m\n\u001b[0;32m   1166\u001b[0m \u001b[38;5;28;01mif\u001b[39;00m fileobj \u001b[38;5;129;01mis\u001b[39;00m \u001b[38;5;129;01mnot\u001b[39;00m \u001b[38;5;28;01mNone\u001b[39;00m:\n\u001b[0;32m   1167\u001b[0m     \u001b[38;5;28;01mif\u001b[39;00m \u001b[38;5;129;01mnot\u001b[39;00m \u001b[38;5;28misinstance\u001b[39m(fileobj, _File):\n\u001b[0;32m   1168\u001b[0m         \u001b[38;5;66;03m# instantiate a FITS file object (ffo)\u001b[39;00m\n\u001b[1;32m-> 1169\u001b[0m         fileobj \u001b[38;5;241m=\u001b[39m \u001b[43m_File\u001b[49m\u001b[43m(\u001b[49m\n\u001b[0;32m   1170\u001b[0m \u001b[43m            \u001b[49m\u001b[43mfileobj\u001b[49m\u001b[43m,\u001b[49m\n\u001b[0;32m   1171\u001b[0m \u001b[43m            \u001b[49m\u001b[43mmode\u001b[49m\u001b[38;5;241;43m=\u001b[39;49m\u001b[43mmode\u001b[49m\u001b[43m,\u001b[49m\n\u001b[0;32m   1172\u001b[0m \u001b[43m            \u001b[49m\u001b[43mmemmap\u001b[49m\u001b[38;5;241;43m=\u001b[39;49m\u001b[43mmemmap\u001b[49m\u001b[43m,\u001b[49m\n\u001b[0;32m   1173\u001b[0m \u001b[43m            \u001b[49m\u001b[43mcache\u001b[49m\u001b[38;5;241;43m=\u001b[39;49m\u001b[43mcache\u001b[49m\u001b[43m,\u001b[49m\n\u001b[0;32m   1174\u001b[0m \u001b[43m            \u001b[49m\u001b[43muse_fsspec\u001b[49m\u001b[38;5;241;43m=\u001b[39;49m\u001b[43muse_fsspec\u001b[49m\u001b[43m,\u001b[49m\n\u001b[0;32m   1175\u001b[0m \u001b[43m            \u001b[49m\u001b[43mfsspec_kwargs\u001b[49m\u001b[38;5;241;43m=\u001b[39;49m\u001b[43mfsspec_kwargs\u001b[49m\u001b[43m,\u001b[49m\n\u001b[0;32m   1176\u001b[0m \u001b[43m            \u001b[49m\u001b[43mdecompress_in_memory\u001b[49m\u001b[38;5;241;43m=\u001b[39;49m\u001b[43mdecompress_in_memory\u001b[49m\u001b[43m,\u001b[49m\n\u001b[0;32m   1177\u001b[0m \u001b[43m        \u001b[49m\u001b[43m)\u001b[49m\n\u001b[0;32m   1178\u001b[0m     \u001b[38;5;66;03m# The Astropy mode is determined by the _File initializer if the\u001b[39;00m\n\u001b[0;32m   1179\u001b[0m     \u001b[38;5;66;03m# supplied mode was None\u001b[39;00m\n\u001b[0;32m   1180\u001b[0m     mode \u001b[38;5;241m=\u001b[39m fileobj\u001b[38;5;241m.\u001b[39mmode\n",
      "File \u001b[1;32m~\\anaconda3\\lib\\site-packages\\astropy\\io\\fits\\file.py:218\u001b[0m, in \u001b[0;36m_File.__init__\u001b[1;34m(self, fileobj, mode, memmap, overwrite, cache, use_fsspec, fsspec_kwargs, decompress_in_memory)\u001b[0m\n\u001b[0;32m    216\u001b[0m     \u001b[38;5;28mself\u001b[39m\u001b[38;5;241m.\u001b[39m_open_fileobj(fileobj, mode, overwrite)\n\u001b[0;32m    217\u001b[0m \u001b[38;5;28;01melif\u001b[39;00m \u001b[38;5;28misinstance\u001b[39m(fileobj, (\u001b[38;5;28mstr\u001b[39m, \u001b[38;5;28mbytes\u001b[39m)):\n\u001b[1;32m--> 218\u001b[0m     \u001b[38;5;28;43mself\u001b[39;49m\u001b[38;5;241;43m.\u001b[39;49m\u001b[43m_open_filename\u001b[49m\u001b[43m(\u001b[49m\u001b[43mfileobj\u001b[49m\u001b[43m,\u001b[49m\u001b[43m \u001b[49m\u001b[43mmode\u001b[49m\u001b[43m,\u001b[49m\u001b[43m \u001b[49m\u001b[43moverwrite\u001b[49m\u001b[43m)\u001b[49m\n\u001b[0;32m    219\u001b[0m \u001b[38;5;28;01melse\u001b[39;00m:\n\u001b[0;32m    220\u001b[0m     \u001b[38;5;28mself\u001b[39m\u001b[38;5;241m.\u001b[39m_open_filelike(fileobj, mode, overwrite)\n",
      "File \u001b[1;32m~\\anaconda3\\lib\\site-packages\\astropy\\io\\fits\\file.py:651\u001b[0m, in \u001b[0;36m_File._open_filename\u001b[1;34m(self, filename, mode, overwrite)\u001b[0m\n\u001b[0;32m    648\u001b[0m ext \u001b[38;5;241m=\u001b[39m os\u001b[38;5;241m.\u001b[39mpath\u001b[38;5;241m.\u001b[39msplitext(\u001b[38;5;28mself\u001b[39m\u001b[38;5;241m.\u001b[39mname)[\u001b[38;5;241m1\u001b[39m]\n\u001b[0;32m    650\u001b[0m \u001b[38;5;28;01mif\u001b[39;00m \u001b[38;5;129;01mnot\u001b[39;00m \u001b[38;5;28mself\u001b[39m\u001b[38;5;241m.\u001b[39m_try_read_compressed(\u001b[38;5;28mself\u001b[39m\u001b[38;5;241m.\u001b[39mname, magic, mode, ext\u001b[38;5;241m=\u001b[39mext):\n\u001b[1;32m--> 651\u001b[0m     \u001b[38;5;28mself\u001b[39m\u001b[38;5;241m.\u001b[39m_file \u001b[38;5;241m=\u001b[39m \u001b[38;5;28;43mopen\u001b[39;49m\u001b[43m(\u001b[49m\u001b[38;5;28;43mself\u001b[39;49m\u001b[38;5;241;43m.\u001b[39;49m\u001b[43mname\u001b[49m\u001b[43m,\u001b[49m\u001b[43m \u001b[49m\u001b[43mIO_FITS_MODES\u001b[49m\u001b[43m[\u001b[49m\u001b[43mmode\u001b[49m\u001b[43m]\u001b[49m\u001b[43m)\u001b[49m\n\u001b[0;32m    652\u001b[0m     \u001b[38;5;28mself\u001b[39m\u001b[38;5;241m.\u001b[39mclose_on_error \u001b[38;5;241m=\u001b[39m \u001b[38;5;28;01mTrue\u001b[39;00m\n\u001b[0;32m    654\u001b[0m \u001b[38;5;66;03m# Make certain we're back at the beginning of the file\u001b[39;00m\n\u001b[0;32m    655\u001b[0m \u001b[38;5;66;03m# BZ2File does not support seek when the file is open for writing, but\u001b[39;00m\n\u001b[0;32m    656\u001b[0m \u001b[38;5;66;03m# when opening a file for write, bz2.BZ2File always truncates anyway.\u001b[39;00m\n",
      "\u001b[1;31mFileNotFoundError\u001b[0m: [Errno 2] No such file or directory: 'C:\\\\Users\\\\oxfor\\\\Research\\\\rsadpy\\\\tests\\\\test_data\\\\SingleStarTest\\\\MYSTIC_June11162025_HD_219134.oifits'"
     ]
    }
   ],
   "source": [
    "datav, num_brack_v = filename_extension(filenamev, 'V')\n",
    "datac, num_brack_c = filename_extension(filenamec, 'C')\n",
    "datap, num_brack_p = filename_extension(filenamep, 'P')\n",
    "datam, num_brack_m = filename_extension(filenamem, 'M')\n",
    "#datas, num_brack_s = filename_extension(filenames, 'S')\n",
    "datamy, num_brack_my = filename_extension(filenamemy, 'My')"
   ]
  },
  {
   "cell_type": "code",
   "execution_count": null,
   "id": "7218c582-0b97-43fc-a4f5-6f62ca04b9ca",
   "metadata": {},
   "outputs": [],
   "source": [
    "pavo_data = PavoData(datap)\n",
    "vega_data = VegaData(datav)\n",
    "classic_data = ClassicData(datac)\n",
    "mircx_data = MircxData(datam)\n",
    "mystic_data = MysticData(datamy)\n",
    "#spica_data = SpicaData(datas)"
   ]
  },
  {
   "cell_type": "code",
   "execution_count": null,
   "id": "42f725e2-83d6-483d-81bb-d08b653b5ec9",
   "metadata": {},
   "outputs": [],
   "source": [
    "df_m = mircx_data.make_df()\n",
    "df_my = mystic_data.make_df()\n",
    "df_p = pavo_data.make_df()\n",
    "df_v = vega_data.make_df()\n",
    "df_c = classic_data.make_df()\n",
    "#df_s = spica_data.make_df()"
   ]
  },
  {
   "cell_type": "code",
   "execution_count": null,
   "id": "c346ba89-2c61-4cc6-89fe-1eb1f54e0170",
   "metadata": {},
   "outputs": [],
   "source": [
    "b, v2, dv2, wave, band, brack, inst = combined(df_p, df_c, df_v)\n",
    "spf = b/wave"
   ]
  },
  {
   "cell_type": "code",
   "execution_count": null,
   "id": "f813475d-8dcb-453b-bada-38a65bfa12ac",
   "metadata": {},
   "outputs": [],
   "source": [
    "star = StellarParams()\n",
    "p = 152.864\n",
    "dp = 0.0494\n",
    "f = 21.751\n",
    "df = 0.585\n",
    "logg = 4.5\n",
    "dlogg = 0.1\n",
    "m = 0.09\n",
    "dm = 0.08\n",
    "\n",
    "star.fbol = f\n",
    "star.fbol_err = df\n",
    "star.logg = logg\n",
    "star.logg_err = dlogg\n",
    "star.feh = m\n",
    "star.feh_err = dm\n",
    "star.plx = p\n",
    "star.plx_err = dp"
   ]
  },
  {
   "cell_type": "code",
   "execution_count": null,
   "id": "32ebce57-9dad-4b0d-9d15-3aab058bb9c0",
   "metadata": {},
   "outputs": [],
   "source": [
    "D, dD = distances('HD 219134', verbose = True)\n",
    "star.dist = D\n",
    "star.dist_err = dD"
   ]
  },
  {
   "cell_type": "code",
   "execution_count": null,
   "id": "2c95a288-f1b1-45cf-8074-56e64dbc71c1",
   "metadata": {},
   "outputs": [],
   "source": [
    "theta1, dtheta1, chisqr1, v01, dv01 = initial_UDfit(spf, v2, dv2, 0.4,1.0, star, v0_flag = False, verbose = True)\n"
   ]
  },
  {
   "cell_type": "code",
   "execution_count": null,
   "id": "fea80def-d5b8-46d7-921d-e2c7be74364a",
   "metadata": {},
   "outputs": [],
   "source": [
    "theta2, dtheta2, chisqr2, v02, dv02 = initial_LDfit(spf, v2, dv2, star, 'R', v0_flag = False, verbose = True)"
   ]
  },
  {
   "cell_type": "code",
   "execution_count": null,
   "id": "2e8564d6-705a-432b-bd37-1743c9f16125",
   "metadata": {},
   "outputs": [],
   "source": [
    "def UDV2(sf, theta, V0):\n",
    "    x = np.pi*sf*(theta/(206265*1000))\n",
    "    if V0 == 1:\n",
    "        vis2 = (((2*ss.jv(1,x))/x)**2)\n",
    "        return vis2\n",
    "    else:\n",
    "        vis2 = (V0**2)*(((2*ss.jv(1,x))/x)**2)\n",
    "        return vis2"
   ]
  },
  {
   "cell_type": "code",
   "execution_count": null,
   "id": "f50d47c8-56e8-4cf5-8786-d7eaee0046fa",
   "metadata": {},
   "outputs": [],
   "source": [
    "from radpy.UDfitting import *\n",
    "\n",
    "def initial_UDfit(spf, v2, dv2, theta_guess, V0_guess, star_params, v0_flag=False, verbose=False):\n",
    "    #####################################################################\n",
    "    # Function: initial_UDfit                                           #\n",
    "    # Inputs: spf -> spatial frequency                                  #\n",
    "    #         v2 -> visibilitity squared                                #\n",
    "    #         dv2 -> error on the V2                                    #\n",
    "    #         theta_guess -> initial guess for theta                    #\n",
    "    #         star_params -> stellar class object                       #\n",
    "    #         v0_flag -> set to fit with a scaling factor or not        #\n",
    "    #                    True: fits with a scaling factor               #\n",
    "    #         verbose -> if set to True, allows print statements        #\n",
    "    #                    defaults to False                              #\n",
    "    # Outputs: theta_ilm -> initial uniform disk diameter               #\n",
    "    #          dtheta_ilm -> error on the diameter                      #\n",
    "    #          chisqr_ilm -> chi squared reduced value                  #\n",
    "    # What it does:                                                     #\n",
    "    #        1. Initialized the model                                   #\n",
    "    #        2. initializes the parameters                              #\n",
    "    #        3. If the v0_flag is not set, will fix V0 to be 1.0        #\n",
    "    #        4. Fits for the UD diameter using lmfit                    #\n",
    "    #           uses for the weights as 1/dv2                           #\n",
    "    #        5. pulls out the theta, dtheta, and chi squared reduced    #\n",
    "    #        6. updates the stellar object                              #\n",
    "    #        7. Returns the theta, dtheta, and chi squared reduced      #\n",
    "    #####################################################################\n",
    "\n",
    "    udmodel = Model(UDV2)\n",
    "    udparams = udmodel.make_params(theta=theta_guess, V0=V0_guess)\n",
    "    if not v0_flag:\n",
    "        # Fix V0 to 1.0 (or V0_guess, but default should be 1.0)\n",
    "        udparams['V0'].set(value=1.0, vary=False)\n",
    "    ud_result = udmodel.fit(v2, udparams, sf=spf, weights=1 / (dv2), scale_covar=False)\n",
    "    # Extract parameters\n",
    "    if v0_flag:\n",
    "        theta_ilm, dtheta_ilm, v0_ilm, dv0_ilm = safe_param_extraction(ud_result)\n",
    "    else:\n",
    "        theta_ilm, dtheta_ilm, v0_ilm, dv0_ilm = safe_param_extraction(\n",
    "            ud_result)  # extract, but v0_ilm will be 1.0, dv0_ilm may be 0\n",
    "    chisqr_ilm = ud_result.redchi\n",
    "    if verbose:\n",
    "        print('Initial fit with lmfit:')\n",
    "        print(ud_result.fit_report())\n",
    "    star_params.update(\n",
    "        udthetai=round(theta_ilm, 5),\n",
    "        udthetai_err=round(dtheta_ilm, 5),\n",
    "        udv0i=round(v0_ilm, 5),\n",
    "        udv0i_err=round(dv0_ilm, 5)\n",
    "    )\n",
    "    return theta_ilm, dtheta_ilm, chisqr_ilm, v0_ilm, dv0_ilm\n",
    "\n",
    "def udfit(df, stellar_params, v0_flag = False, verbose=False):\n",
    "    #####################################################################\n",
    "    # Function: udfit                                                   #\n",
    "    # Inputs: df -> dataframe with data in it                           #\n",
    "    #         star_params -> stellar class object                       #\n",
    "    #         verbose -> if set to True, allows print statements        #\n",
    "    #                    defaults to False                              #\n",
    "    # Outputs: theta_ud -> initial uniform disk diameter                #\n",
    "    # What it does:                                                     #\n",
    "    #        1. Initialized the model                                   #\n",
    "    #        2. initializes the parameters                              #\n",
    "    #        3. Fits for the UD diameter using lmfit                    #\n",
    "    #           uses for the weights as 1/dv2                           #\n",
    "    #        4. pulls out the theta                                     #\n",
    "    #        5. Returns the theta                                       #\n",
    "    #####################################################################\n",
    "    udmodel = Model(UDV2)\n",
    "    ud_params = udmodel.make_params(theta=stellar_params.udthetai, V0 = stellar_params.udv0i)\n",
    "    if not v0_flag:\n",
    "        # Fix V0 to 1.0 (or V0_guess, but default should be 1.0)\n",
    "        ud_params['V0'].set(value=1.0, vary=False)\n",
    "    ud_result = udmodel.fit(df['V2'], ud_params, sf=df['Spf'], weights=1 / (df['dV2']), scale_covar=True)\n",
    "\n",
    "    #theta_ud = ud_result.uvars['theta'].n\n",
    "    if v0_flag:\n",
    "        theta_ud = ud_result.uvars['theta'].n\n",
    "        v0_ud = ud_result.uvars['V0'].n\n",
    "        return theta_ud, v0_ud\n",
    "    if not v0_flag:\n",
    "        theta_ud = ud_result.uvars['theta'].n\n",
    "        return theta_ud\n",
    "\n",
    "def run_UDfit(mc_num, bs_num, datasets, stellar_params, v0_flag = False, verbose=False):\n",
    "    ######################################################################\n",
    "    # Function: run_udmcbs_fit                                           #\n",
    "    # Inputs: mc_num -> number of Monte Carlo iterations                 #\n",
    "    #         bs_num -> number of bootstrap iterations                   #\n",
    "    #         datasets -> the datasets you want fit                      #\n",
    "    #                     format: [inst1, inst2, inst3]                  #\n",
    "    #         stellar_params -> star object                              #\n",
    "    #         verbose -> if True, allows print statements                #\n",
    "    #                    default is False                                #\n",
    "    # Outputs: UD -> a list of all the uniform disk diameters calculated #\n",
    "    #                during the fitting routine                          #\n",
    "    # What it does:                                                      #\n",
    "    #      1. Initializes the empty list for the diameters               #\n",
    "    #      2. If verbose is set, it initializes the empty lists for      #\n",
    "    #         spf, v2, and dv2                                           #\n",
    "    #      3. enters the Monte Carlo loop                                #\n",
    "    #      4. Creates the dataframes for each dataset                    #\n",
    "    #      5. For each dataframe, samples the wavelength of observation  #\n",
    "    #         on a normal distribution. Then calculates new spatial      #\n",
    "    #         frequencies                                                #\n",
    "    #      6. Enters the bootstrapping loop                              #\n",
    "    #      7. Pulls the instrument for each data set                     #\n",
    "    #      8. Calls the bootstrap function with the instrument's df and  #\n",
    "    #         the instrument ID                                          #\n",
    "    #      9. appends the output of the bootstrap function to a list.    #\n",
    "    #     10. Concatenates all the dataframes created in the bootstrap   #\n",
    "    #         loop.                                                      #\n",
    "    #     11. Calculates the uniform disk diameter with udfit            #\n",
    "    #     12. Appends the diameter to the list called UD.                #\n",
    "    #     13. After the loops, returns the UD.                           #\n",
    "    ######################################################################\n",
    "    UD = []\n",
    "    V0 = []\n",
    "    if verbose:\n",
    "        udmcbs_spf = []\n",
    "        udmcbs_v2 = []\n",
    "        udmcbs_dv2 = []\n",
    "\n",
    "    for _ in range(mc_num):\n",
    "        dfs = [d.make_df() for d in datasets]\n",
    "\n",
    "        for df in dfs:\n",
    "            df['Spf'] = df['B'] / np.random.normal(df['Wave'], df['Band'])\n",
    "\n",
    "        for _ in range(bs_num):\n",
    "            bs_dfs = []\n",
    "\n",
    "            for df in dfs:\n",
    "                inst = df[\"Instrument\"].iloc[0]\n",
    "                # print('Instrument:', inst)\n",
    "                boot_df = bootstrap(df, inst)\n",
    "                bs_dfs.append(boot_df)\n",
    "\n",
    "            new_df = pd.concat(bs_dfs, ignore_index=True)\n",
    "\n",
    "            if v0_flag:\n",
    "                theta_udbs, v0_udbs = udfit(new_df, stellar_params, v0_flag, verbose)\n",
    "                UD.append(theta_udbs)\n",
    "                V0.append(v0_udbs)\n",
    "\n",
    "            if not v0_flag:\n",
    "                theta_udbs = udfit(new_df, stellar_params, v0_flag, verbose)\n",
    "                UD.append(theta_udbs)\n",
    "    \n",
    "    if v0_flag:\n",
    "        if verbose:\n",
    "            udmcbs_spf.append(new_df['Spf'])\n",
    "            udmcbs_v2.append(new_df['V2'])\n",
    "            udmcbs_dv2.append(new_df['dV2'])\n",
    "            return UD, V0, udmcbs_spf, udmcbs_v2, udmcbs_dv2\n",
    "        return UD, V0\n",
    "    if not v0_flag:\n",
    "        if verbose:\n",
    "            udmcbs_spf.append(new_df['Spf'])\n",
    "            udmcbs_v2.append(new_df['V2'])\n",
    "            udmcbs_dv2.append(new_df['dV2'])\n",
    "            return UD, udmcbs_spf, udmcbs_v2, udmcbs_dv2\n",
    "        return UD\n",
    "\n",
    "def udfit_values(x, y, dy, UD, stellar_params, V0 = None, v0_flag = False, verbose=False):\n",
    "    ################################################################\n",
    "    # Function: udfit_values                                       #\n",
    "    # Inputs: x -> the spatial frequencies                         #\n",
    "    #         y -> the V2                                          #\n",
    "    #        dy -> the error on the V2                             #\n",
    "    #        UD -> the list of diameters                           #\n",
    "    #        stellar_params -> the star object                     #\n",
    "    #        verbose - > if true, returns print statements         #\n",
    "    # Outputs: None                                                #\n",
    "    # What it does:                                                #\n",
    "    #     1. Takes the mean of the uniform disk diameter list      #\n",
    "    #     2. Takes the median absolute deviation of the UDs        #\n",
    "    #     3. Calculates the chi squared and chi squared reduced    #\n",
    "    #        of the uniform disk diameter fit.                     #\n",
    "    #     4. Calculates the effective temperature using the mean   #\n",
    "    #     5. Updates the stellar object with the new parameters    #\n",
    "    ################################################################\n",
    "    avg_UD = np.mean(UD)\n",
    "    std_UD = mad_std(UD)\n",
    "    if v0_flag:\n",
    "        avg_V0 = np.mean(V0)\n",
    "        std_V0 = mad_std(V0)\n",
    "        chisq, chisqr = chis(y, UDV2(x, avg_UD, avg_V0), y, 2)\n",
    "        teff_ud = temp(stellar_params.fbol, stellar_params.fbol_err, avg_UD, std_UD)\n",
    "        stellar_params.update(teff=round(teff_ud[0], 5), teff_err=round(teff_ud[1], 5), udtheta=round(avg_UD, 5),\n",
    "                              udtheta_err=round(std_UD, 5), udv0=round(avg_V0, 5), udv0_err=round(std_V0, 5))\n",
    "    if not v0_flag:\n",
    "        chisq, chisqr = chis(y, UDV2(x, avg_UD, 1), y, 1)\n",
    "        teff_ud = temp(stellar_params.fbol, stellar_params.fbol_err, avg_UD, std_UD)\n",
    "        stellar_params.update(teff=round(teff_ud[0], 5), teff_err=round(teff_ud[1], 5), udtheta=round(avg_UD, 5),\n",
    "                              udtheta_err=round(std_UD, 5))\n",
    "\n",
    "    if verbose:\n",
    "        print('Uniform Disk Diameter after MC/BS:', round(avg_UD, 4), '+/-', round(std_UD, 5), 'mas')\n",
    "        if v0_flag:\n",
    "            print('V0**2:', round(avg_V0, 4), '+/-', round(std_V0, 4))\n",
    "        print(\"Chi-squared:\", round(chisq, 3))\n",
    "        print(\"Chi-squared reduced:\", round(chisqr, 3))\n",
    "        print(\"Temperature:\", round(teff_ud[0], 1), \"+/-\", round(teff_ud[1], 1), \"K\")\n"
   ]
  },
  {
   "cell_type": "code",
   "execution_count": null,
   "id": "c5253161-7b01-465e-a5e5-952366dd6fa5",
   "metadata": {},
   "outputs": [],
   "source": [
    "theta1, dtheta1, chisqr1, v01, dv01 = initial_UDfit(spf, v2, dv2, 0.4,1.0, star, v0_flag = True, verbose = True)"
   ]
  },
  {
   "cell_type": "code",
   "execution_count": null,
   "id": "113e6a97-972a-4133-ab7f-ffa3d88371aa",
   "metadata": {},
   "outputs": [],
   "source": [
    "theta_results = run_UDfit(5, 5, datasets = [pavo_data, vega_data, classic_data], \n",
    "                                      stellar_params = star, v0_flag = False)"
   ]
  },
  {
   "cell_type": "code",
   "execution_count": null,
   "id": "1cb44c16-cd04-4526-9f3b-28a2c7ad9611",
   "metadata": {},
   "outputs": [],
   "source": [
    "len(theta_results)"
   ]
  },
  {
   "cell_type": "code",
   "execution_count": null,
   "id": "cabe6b7a-bf46-4940-a0a5-dbd76055227f",
   "metadata": {},
   "outputs": [],
   "source": [
    "udfit_values(spf, v2, dv2, theta_results, star, v0_flag = False, verbose = True)"
   ]
  },
  {
   "cell_type": "code",
   "execution_count": null,
   "id": "1ae7d73e-2883-4ae9-a1b9-e924f4098154",
   "metadata": {},
   "outputs": [],
   "source": [
    "def V2(sf, theta, mu, V0):\n",
    "    alpha = 1-mu\n",
    "    beta = mu\n",
    "    x = np.pi*sf*(theta/(206265*1000))\n",
    "    if V0 == 1:\n",
    "        vis = ((((alpha / 2) + (beta / 3)) ** (-2)) * ((alpha * (ss.jv(1, x) / x)) + beta * (\n",
    "                    np.sqrt(np.pi / 2) * (ss.jv(3 / 2, x) / (x ** (3 / 2))))) ** 2)\n",
    "        return vis\n",
    "    else:\n",
    "        vis = (V0**2)*((((alpha/2)+(beta/3))**(-2))*((alpha*(ss.jv(1,x)/x))+ beta*(np.sqrt(np.pi/2)*(ss.jv(3/2,x)/(x**(3/2)))))**2)\n",
    "        return vis"
   ]
  },
  {
   "cell_type": "code",
   "execution_count": null,
   "id": "50144bf5-8af3-412d-a4ed-7435a25fc098",
   "metadata": {},
   "outputs": [],
   "source": [
    "from lmfit import Model\n",
    "import scipy.special as ss\n",
    "\n",
    "dummodel = Model(V2, independent_vars=['sf', 'mu'])\n",
    "dumparams = dummodel.make_params(theta = 0.4, V0 = 1)\n",
    "dumparams['V0'].set(value=1.0, vary=False)\n",
    "dum_result = dummodel.fit(v2, dumparams, sf = spf, mu = 0.6672, weights = 1/(dv2), scale_covar = False)\n",
    "print(dum_result.fit_report())"
   ]
  },
  {
   "cell_type": "code",
   "execution_count": null,
   "id": "43ae08e0-ad3a-4f2b-9a12-2cbb72112234",
   "metadata": {},
   "outputs": [],
   "source": [
    "theta_results, v0_results = run_UDfit(71, 71, datasets = [pavo_data, vega_data, classic_data], \n",
    "                                      stellar_params = star, v0_flag = False)"
   ]
  },
  {
   "cell_type": "code",
   "execution_count": null,
   "id": "4bfbc530-5271-4f36-862f-76ba6253d9a6",
   "metadata": {},
   "outputs": [],
   "source": [
    "udfit_values(spf, v2, dv2, theta_results, v0_results, stellar_params = star, verbose = True)"
   ]
  },
  {
   "cell_type": "code",
   "execution_count": null,
   "id": "857adb61-77c2-430b-b54e-5170f1c974d5",
   "metadata": {},
   "outputs": [],
   "source": [
    "thetaf, dthetaf,v0_ld, dv0_ld, tf, dtf, ldcsf, chisf = run_LDfit(71, 71, ogdata = [spf, v2, dv2], \n",
    "                                                                 datasets = [pavo_data, vega_data, classic_data], \n",
    "                                                                 stellar_params = star, v0_flag = False, verbose = True)\n",
    "\n"
   ]
  },
  {
   "cell_type": "code",
   "execution_count": null,
   "id": "b2577369-553a-415a-8627-c9eaccee3279",
   "metadata": {},
   "outputs": [],
   "source": [
    "calc_star_params(star, verbose = True)"
   ]
  },
  {
   "cell_type": "code",
   "execution_count": null,
   "id": "1259816e-53da-4da9-82b0-5c5417d25e80",
   "metadata": {},
   "outputs": [],
   "source": [
    "data_dict = {'pavo':pavo_data, 'vega':vega_data, 'classic':classic_data}\n",
    "#data_dict = {'pavo':pavo_data, 'vega':vega_data, 'classic':classic_data, 'mircx':mircx_data,'mystic':mystic_data}"
   ]
  },
  {
   "cell_type": "code",
   "execution_count": null,
   "id": "621768dc-ebb3-476d-ba69-090ec3bad260",
   "metadata": {},
   "outputs": [],
   "source": [
    "plot_v2_fit(\n",
    "    data_dict=data_dict,\n",
    "    star=star,        \n",
    "    datasets_to_plot=['pavo', 'classic', 'vega'],\n",
    "    to_bin = ['pavo'],\n",
    "    plot_udmodel = True,\n",
    "    title = rf'$\\rm HD~219134$',\n",
    "    #set_axis= [-0.05, 5e8, -0.05, 1.1],\n",
    "    eq_text=True,\n",
    "    show = True\n",
    "    )"
   ]
  },
  {
   "cell_type": "code",
   "execution_count": null,
   "id": "e3c1db08-813e-4b94-8bd1-34736a36712b",
   "metadata": {},
   "outputs": [],
   "source": [
    "plot_v2_fit(\n",
    "    data_dict=data_dict,\n",
    "    star=star,        \n",
    "    datasets_to_plot=['pavo', 'classic', 'vega'],\n",
    "    to_bin = [ 'pavo'],\n",
    "    ldc_band = 'ldc_R',\n",
    "    plot_ldmodel = True,\n",
    "    title = rf'$\\rm HD~219134$',\n",
    "    #set_axis= [-0.05, 5e8, -0.05, 1.1],\n",
    "    eq_text=True,\n",
    "    show = True\n",
    "    )"
   ]
  },
  {
   "cell_type": "code",
   "execution_count": null,
   "id": "6432ef88-80b1-4777-a4d5-17e6d89757fd",
   "metadata": {},
   "outputs": [],
   "source": [
    "plot_v2_fit(\n",
    "    data_dict=data_dict,\n",
    "    star=star,        \n",
    "    datasets_to_plot=['mircx'],\n",
    "    plot_udmodel = True,\n",
    "    title = rf'$\\rm HD~219134$',\n",
    "    #set_axis= [-0.05, 5e8, -0.05, 1.1],\n",
    "    eq_text=True,\n",
    "    show = True\n",
    "    )"
   ]
  },
  {
   "cell_type": "code",
   "execution_count": null,
   "id": "af488c9e-9af5-4763-b8a8-2d5649924a40",
   "metadata": {},
   "outputs": [],
   "source": []
  },
  {
   "cell_type": "code",
   "execution_count": null,
   "id": "3a63611f-f3f0-4b42-9e95-5d3f8f7999aa",
   "metadata": {},
   "outputs": [],
   "source": [
    "datas"
   ]
  },
  {
   "cell_type": "code",
   "execution_count": null,
   "id": "f2e1df49-6b5d-4bad-9b1b-b247ef0a8799",
   "metadata": {},
   "outputs": [],
   "source": [
    "ucoord = datas['UCOORD[m]']\n",
    "vcoord = datas['VCOORD[m]']\n",
    "v2 = datas['V2']\n",
    "wave = datas['Eff_wave[m]']\n",
    "import numpy as np\n",
    "base = np.sqrt(ucoord**2 + vcoord**2)\n",
    "spf = base/wave"
   ]
  },
  {
   "cell_type": "code",
   "execution_count": null,
   "id": "e70d773b-a81a-47ba-9dce-88116b6876c7",
   "metadata": {},
   "outputs": [],
   "source": [
    "pip list"
   ]
  },
  {
   "cell_type": "code",
   "execution_count": null,
   "id": "adc93a8e-bb84-4ebe-ac60-e04ee90e5a5e",
   "metadata": {},
   "outputs": [],
   "source": [
    "import matplotlib.pyplot as plt"
   ]
  },
  {
   "cell_type": "code",
   "execution_count": null,
   "id": "6df6a7fd-34fa-4461-8bda-af620a7f6162",
   "metadata": {},
   "outputs": [],
   "source": [
    "plt.close()\n",
    "plt.plot(df_m['B']/df_m['Wave'], df_m['V2'], '.', label = 'MIRCX')\n",
    "plt.plot(df_p['B']/df_p['Wave'], df_p['V2'], '.', label = 'PAVO')\n",
    "plt.plot(df_c['B']/df_c['Wave'], df_c['V2'], '.', label = 'Classic')\n",
    "plt.plot(df_v['B']/df_v['Wave'], df_v['V2'], '.', label = 'VEGA')\n",
    "plt.plot(df_s['B']/df_s['Wave'], df_s['V2'], '.', label = 'SPICA')\n",
    "plt.legend()\n",
    "plt.show()"
   ]
  },
  {
   "cell_type": "code",
   "execution_count": null,
   "id": "ddf10d05-244b-42b8-8dc3-87f54aea1362",
   "metadata": {},
   "outputs": [],
   "source": [
    "datas = oifits_to_pandas(filenames, 'S')"
   ]
  },
  {
   "cell_type": "code",
   "execution_count": null,
   "id": "f8498e43-3e67-4f0f-930c-2cf539bab9d4",
   "metadata": {},
   "outputs": [],
   "source": [
    "ucoord = datas['UCOORD[m]']\n",
    "vcoord = datas['VCOORD[m]']\n",
    "v2 = datas['V2']\n",
    "wave = datas['Eff_wave[m]']\n",
    "import numpy as np\n",
    "base = np.sqrt(ucoord**2 + vcoord**2)\n",
    "spf = base/wave"
   ]
  },
  {
   "cell_type": "code",
   "execution_count": null,
   "id": "268a556e-2e47-4d5f-97f9-c81fec5b110d",
   "metadata": {},
   "outputs": [],
   "source": [
    "plt.plot(spf, v2, '.')"
   ]
  },
  {
   "cell_type": "code",
   "execution_count": null,
   "id": "a4c78f3c-d7b0-4928-af2f-f996f0c3da6a",
   "metadata": {},
   "outputs": [],
   "source": []
  }
 ],
 "metadata": {
  "kernelspec": {
   "display_name": "Python 3 (ipykernel)",
   "language": "python",
   "name": "python3"
  },
  "language_info": {
   "codemirror_mode": {
    "name": "ipython",
    "version": 3
   },
   "file_extension": ".py",
   "mimetype": "text/x-python",
   "name": "python",
   "nbconvert_exporter": "python",
   "pygments_lexer": "ipython3",
   "version": "3.10.14"
  }
 },
 "nbformat": 4,
 "nbformat_minor": 5
}
