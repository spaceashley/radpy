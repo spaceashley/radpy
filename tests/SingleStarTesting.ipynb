{
 "cells": [
  {
   "cell_type": "code",
   "execution_count": 1,
   "id": "5081ab13-2176-499e-a52a-862b5ff93f91",
   "metadata": {},
   "outputs": [],
   "source": [
    "from radpy.stellar import *\n",
    "from radpy.datareadandformat import *\n",
    "from radpy.plotting import plot_v2_fit\n",
    "from radpy.LDfitting import initial_LDfit, run_LDfit\n",
    "from radpy.UDfitting import initial_UDfit, run_UDfit, udfit_values"
   ]
  },
  {
   "cell_type": "code",
   "execution_count": 6,
   "id": "315712f4-98e9-48f8-a7f7-1f53679a1622",
   "metadata": {},
   "outputs": [],
   "source": [
    "def oifits_to_pandas(filename, inst_name):\n",
    "    # Reads in an oifits file and converts into a pandas dataframe with the necessary information needed for RADPy\n",
    "    # Extracts the following data:\n",
    "    #   V2, dv2, ucoord, vcoord, mjd, time, effective wavelength, and effective bandwidth\n",
    "    # Converts the wavelengths and bandwidth arrays into lists of lists to match the V2 and V2err lists\n",
    "    # creates a dataframe\n",
    "    # Sorts the dataframe by MJD and then assigns a bracket number based on the date groupings\n",
    "    # Explodes the dataframe by extracting out each list for V2, V2_err, wavelength, and bandwidth\n",
    "    # returns the exploded, sorted, and bracket labeled df\n",
    "\n",
    "    data = fits.open(filename)\n",
    "    v2 = data[\"OI_VIS2\"].data[\"VIS2DATA\"]\n",
    "    dv2 = data[\"OI_VIS2\"].data[\"VIS2ERR\"]\n",
    "    ucoord = data[\"OI_VIS2\"].data[\"UCOORD\"]\n",
    "    vcoord = data[\"OI_VIS2\"].data[\"VCOORD\"]\n",
    "    mjd = data[\"OI_VIS2\"].data[\"MJD\"]\n",
    "    time = data[\"OI_VIS2\"].data[\"TIME\"]\n",
    "    wl = data[\"OI_WAVELENGTH\"].data[\"EFF_WAVE\"]\n",
    "    band = data[\"OI_WAVELENGTH\"].data[\"EFF_BAND\"]\n",
    "\n",
    "    wl_list = [wl.tolist() for _ in range(len(v2))]\n",
    "    band_list = [band.tolist() for _ in range(len(v2))]\n",
    "\n",
    "    pd.set_option('display.float_format', '{:.12f}'.format)\n",
    "    df = pd.DataFrame({'MJD': mjd, 'Time': time, 'V2': v2.tolist(), 'V2_err': dv2.tolist(),\n",
    "                       'Eff_wave[m]': wl_list, 'Eff_band[m]': band_list, 'UCOORD[m]': ucoord, 'VCOORD[m]': vcoord})\n",
    "\n",
    "    sorted_df = brackets(df, inst_name)\n",
    "    # sorted_df = df.sort_values(by = 'MJD')\n",
    "    # sorted_df['Bracket'] = sorted_df.groupby('MJD').ngroup()+1\n",
    "\n",
    "    sorted_df['zipped'] = sorted_df.apply(\n",
    "        lambda row: list(zip(row['V2'], row['V2_err'], row['Eff_wave[m]'], row['Eff_band[m]'])), axis=1)\n",
    "    df_exploded = sorted_df.explode('zipped').reset_index(drop=True)\n",
    "    df_exploded[['V2', 'V2_err', 'Eff_wave[m]', 'Eff_band[m]']] = pd.DataFrame(df_exploded['zipped'].tolist(),\n",
    "                                                                               index=df_exploded.index)\n",
    "    df_exploded = df_exploded.drop(columns='zipped')\n",
    "    df_exploded['Instrument'] = [inst_name] * len(df_exploded)\n",
    "\n",
    "    return df_exploded\n",
    "def brackets(df, instrument):\n",
    "    # bracket generator\n",
    "    # PAVO brackets are assigned via same baseline\n",
    "    # Classic has no brackets\n",
    "    # MIRCX/MYSTIC/SPICA are by MJD\n",
    "    # Vega is uncertain for now but will be date im fairly certain\n",
    "    if instrument == 'M' or instrument == 'm':\n",
    "        pd.set_option('display.float_format', '{:.12f}'.format)\n",
    "        sorted_df = df.sort_values(by='MJD')\n",
    "        sorted_df['Bracket'] = sorted_df.groupby('MJD').ngroup() + 1\n",
    "        return sorted_df\n",
    "    if instrument == 'P' or instrument == 'p':\n",
    "        pd.set_option('display.float_format', '{:.12f}'.format)\n",
    "        sorted_df = df.sort_values(by='U(meters)')\n",
    "        sorted_df['Bracket'] = sorted_df.groupby('U(meters)').ngroup() + 1\n",
    "        return sorted_df\n",
    "    if instrument == 'C' or instrument == 'c':\n",
    "        pd.set_option('display.float_format', '{:.12f}'.format)\n",
    "        df['Bracket'] = [1] * len(df)\n",
    "        return df\n",
    "    if instrument == 'S' or instrument == 's':\n",
    "        pd.set_option('display.float_format', '{:.12f}'.format)\n",
    "        sorted_df = df.sort_values(by='UCOORD[m]')\n",
    "        sorted_df['Bracket'] = sorted_df.groupby('UCOORD[m]').ngroup() + 1\n",
    "        return sorted_df\n",
    "    if instrument == 'My' or instrument == 'my':\n",
    "        pd.set_option('display.float_format', '{:.12f}'.format)\n",
    "        sorted_df = df.sort_values(by='MJD')\n",
    "        sorted_df['Bracket'] = sorted_df.groupby('MJD').ngroup() + 1\n",
    "        return sorted_df\n",
    "    if instrument == 'V' or instrument == 'v':\n",
    "        pd.set_option('display.float_format', '{:.12f}'.format)\n",
    "        sorted_df = df.sort_values(by='MJD')\n",
    "        sorted_df['Bracket'] = sorted_df.groupby('MJD').ngroup() + 1\n",
    "        return sorted_df"
   ]
  },
  {
   "cell_type": "code",
   "execution_count": 7,
   "id": "8f9b4577-72c6-4391-b8b5-fba9171053cc",
   "metadata": {},
   "outputs": [],
   "source": [
    "def filename_extension(filename, inst_name, verbose=False, debug = False):\n",
    "    #########################################################################\n",
    "    # Function: filename_extension                                          #\n",
    "    # Inputs: filename -> name of data file                                 #\n",
    "    #         inst_name -> Instrument identifier                            #\n",
    "    #                      C - Classic                                      #\n",
    "    #                      P - PAVO                                         #\n",
    "    #                      V - VEGA                                         #\n",
    "    #                      M - MIRCX                                        #\n",
    "    #                      MY - MYSTIC                                      #\n",
    "    #                      S - SPICA                                        #\n",
    "    #         verbose -> default is False, if true, allows print statements #\n",
    "    # Outputs: data frame of the data with the instrument added as a column #\n",
    "    # What it does:                                                         #\n",
    "    #         1. Checks what format the file is in                          #\n",
    "    #         If .csv:                                                      #\n",
    "    #            2a. Uses pandas.read_csv to read in the file               #\n",
    "    #            3a. Adds the Instrument column                             #\n",
    "    #         If .txt:                                                      #\n",
    "    #            2b. Opens the file and reads in the first line             #\n",
    "    #            3b. Checks what delimiter the file is using                #\n",
    "    #            4b. Reads in the file                                      #\n",
    "    #            5b. Adds the instrument column                             #\n",
    "    #         If .oifits or .fits:                                          #\n",
    "    #            2c. uses the oifits_to_pandas function                     #\n",
    "    #         Returns the dataframe, and number of brackets                 #\n",
    "    #########################################################################\n",
    "\n",
    "    if filename.endswith('.csv'):\n",
    "        df = pd.read_csv(filename)\n",
    "        df['Instrument'] = [inst_name] * len(df)\n",
    "        sorted_df = brackets(df, inst_name)\n",
    "        num_brackets = sorted_df['Bracket'].max()\n",
    "        print('Number of brackets:', num_brackets)\n",
    "        return sorted_df, num_brackets\n",
    "        # return sorted_df\n",
    "    elif filename.endswith('.txt'):\n",
    "        header = None\n",
    "        data_start = 0\n",
    "        with open(filename, 'r') as f:\n",
    "            lines = f.readlines()\n",
    "        for i, line in enumerate(lines):\n",
    "            if line.strip().startswith('#'):\n",
    "                # Remove '#' and newline, then split by pipe (or whatever header delimiter you expect)\n",
    "                header = [col.strip() for col in line.strip()[1:].split('|')]\n",
    "                data_start = i + 1\n",
    "                if debug:\n",
    "                    print(f\"Header detected: {header}\")\n",
    "                break\n",
    "\n",
    "        # Read the data lines (skip header and comments)\n",
    "        # Drop empty lines and comments\n",
    "        data_lines = [l for l in lines[data_start:] if l.strip() and not l.strip().startswith('#')]\n",
    "\n",
    "        # Save to a temp string buffer for pandas\n",
    "        from io import StringIO\n",
    "        data_str = ''.join(data_lines)\n",
    "        df = pd.read_csv(StringIO(data_str), sep=r'\\s+', header=None, engine='python')\n",
    "        if header and len(header) == df.shape[1]:\n",
    "            df.columns = header\n",
    "        df['Instrument'] = [inst_name] * len(df)\n",
    "        sorted_df = brackets(df, inst_name)\n",
    "        num_brackets = sorted_df['Bracket'].max()\n",
    "        if verbose:\n",
    "            print('Number of brackets:', num_brackets)\n",
    "        return sorted_df, num_brackets\n",
    "\n",
    "\n",
    "    elif filename.endswith('.oifits') or filename.endswith('.fits'):\n",
    "        df = oifits_to_pandas(filename, inst_name)\n",
    "        num_brackets = df['Bracket'].max()\n",
    "        print('Number of brackets:', num_brackets)\n",
    "        return df, num_brackets\n",
    "        # return df\n",
    "\n",
    "    else:\n",
    "        header = None\n",
    "        data_start = 0\n",
    "        with open(filename, \"r\") as f:\n",
    "            lines = f.readlines()\n",
    "        for i, line in enumerate(lines):\n",
    "            if line.strip().startswith('#'):\n",
    "                # Remove '#' and newline, then split by pipe (or whatever header delimiter you expect)\n",
    "                header = [col.strip() for col in line.strip()[1:].split('|')]\n",
    "                data_start = i + 1\n",
    "            if debug:\n",
    "                print(f\"Header detected: {header}\")\n",
    "            break\n",
    "\n",
    "        # Read the data lines (skip header and comments)\n",
    "        # Drop empty lines and comments\n",
    "        data_lines = [l for l in lines[data_start:] if l.strip() and not l.strip().startswith('#')]\n",
    "\n",
    "        # Save to a temp string buffer for pandas\n",
    "        from io import StringIO\n",
    "        data_str = ''.join(data_lines)\n",
    "        df = pd.read_csv(StringIO(data_str), sep=r'\\s+', header=None, engine='python')\n",
    "        if header and len(header) == df.shape[1]:\n",
    "            df.columns = header\n",
    "        df['Instrument'] = [inst_name] * len(df)\n",
    "        sorted_df = brackets(df, inst_name)\n",
    "        num_brackets = sorted_df['Bracket'].max()\n",
    "        if verbose:\n",
    "            print('Number of brackets:', num_brackets)\n",
    "        return sorted_df, num_brackets\n"
   ]
  },
  {
   "cell_type": "code",
   "execution_count": 8,
   "id": "14de3126-1f51-4963-a48d-7a94b8f3a689",
   "metadata": {},
   "outputs": [],
   "source": [
    "filenamec = \"C:\\\\Users\\\\oxfor\\\\Research\\\\rsadpy\\\\tests\\\\test_data\\\\SingleStarTest\\\\ClassicData.csv\"\n",
    "filenamep = \"C:\\\\Users\\\\oxfor\\\\Research\\\\rsadpy\\\\tests\\\\test_data\\\\SingleStarTest\\\\PAVOdata.csv\"\n",
    "filenamev = \"C:\\\\Users\\\\oxfor\\\\Research\\\\rsadpy\\\\tests\\\\test_data\\\\SingleStarTest\\\\Vegadata.csv\"\n",
    "filenamem = \"C:\\\\Users\\\\oxfor\\\\Research\\\\rsadpy\\\\tests\\\\test_data\\\\SingleStarTest\\\\MIRCX_June11162025_HD_219134.oifits\"\n",
    "filenamemy = \"C:\\\\Users\\\\oxfor\\\\Research\\\\rsadpy\\\\tests\\\\test_data\\\\SingleStarTest\\\\MYSTIC_June11612025_HD_219134.oifits\"\n",
    "filenames = \"C:\\\\Users\\\\oxfor\\\\Research\\\\rsadpy\\\\tests\\\\test_data\\\\SingleStarTest\\\\SPICA_01_2025-06-11T11-16-21_HD_219134_L2.fits\""
   ]
  },
  {
   "cell_type": "code",
   "execution_count": 9,
   "id": "44f80e9c-6ba8-4ce1-8edf-ddbf1b48f8b2",
   "metadata": {},
   "outputs": [
    {
     "name": "stdout",
     "output_type": "stream",
     "text": [
      "Number of brackets: 20\n",
      "Number of brackets: 1\n",
      "Number of brackets: 17\n",
      "Number of brackets: 18\n",
      "Number of brackets: 15\n",
      "Number of brackets: 30\n"
     ]
    }
   ],
   "source": [
    "datav, num_brack_v = filename_extension(filenamev, 'V')\n",
    "datac, num_brack_c = filename_extension(filenamec, 'C')\n",
    "datap, num_brack_p = filename_extension(filenamep, 'P')\n",
    "datam, num_brack_m = filename_extension(filenamem, 'M')\n",
    "datas, num_brack_s = filename_extension(filenames, 'S')\n",
    "datamy, num_brack_my = filename_extension(filenamemy, 'My')"
   ]
  },
  {
   "cell_type": "code",
   "execution_count": 10,
   "id": "55b4307e-32a9-46df-afb4-3fc50cf59a57",
   "metadata": {},
   "outputs": [
    {
     "data": {
      "text/html": [
       "<div>\n",
       "<style scoped>\n",
       "    .dataframe tbody tr th:only-of-type {\n",
       "        vertical-align: middle;\n",
       "    }\n",
       "\n",
       "    .dataframe tbody tr th {\n",
       "        vertical-align: top;\n",
       "    }\n",
       "\n",
       "    .dataframe thead th {\n",
       "        text-align: right;\n",
       "    }\n",
       "</style>\n",
       "<table border=\"1\" class=\"dataframe\">\n",
       "  <thead>\n",
       "    <tr style=\"text-align: right;\">\n",
       "      <th></th>\n",
       "      <th>MJD</th>\n",
       "      <th>Time</th>\n",
       "      <th>V2</th>\n",
       "      <th>V2_err</th>\n",
       "      <th>Eff_wave[m]</th>\n",
       "      <th>Eff_band[m]</th>\n",
       "      <th>UCOORD[m]</th>\n",
       "      <th>VCOORD[m]</th>\n",
       "      <th>Bracket</th>\n",
       "      <th>Instrument</th>\n",
       "    </tr>\n",
       "  </thead>\n",
       "  <tbody>\n",
       "    <tr>\n",
       "      <th>0</th>\n",
       "      <td>60837.461743277927</td>\n",
       "      <td>39894.619216024876</td>\n",
       "      <td>0.668750964549</td>\n",
       "      <td>0.153559849840</td>\n",
       "      <td>0.000002392452</td>\n",
       "      <td>0.000000007531</td>\n",
       "      <td>12.514891831265</td>\n",
       "      <td>168.342651846445</td>\n",
       "      <td>1</td>\n",
       "      <td>My</td>\n",
       "    </tr>\n",
       "    <tr>\n",
       "      <th>1</th>\n",
       "      <td>60837.461743277927</td>\n",
       "      <td>39894.619216024876</td>\n",
       "      <td>0.656575131169</td>\n",
       "      <td>0.109688726659</td>\n",
       "      <td>0.000002384858</td>\n",
       "      <td>0.000000007531</td>\n",
       "      <td>12.514891831265</td>\n",
       "      <td>168.342651846445</td>\n",
       "      <td>1</td>\n",
       "      <td>My</td>\n",
       "    </tr>\n",
       "    <tr>\n",
       "      <th>2</th>\n",
       "      <td>60837.461743277927</td>\n",
       "      <td>39894.619216024876</td>\n",
       "      <td>0.694847882592</td>\n",
       "      <td>0.112136924113</td>\n",
       "      <td>0.000002377266</td>\n",
       "      <td>0.000000007531</td>\n",
       "      <td>12.514891831265</td>\n",
       "      <td>168.342651846445</td>\n",
       "      <td>1</td>\n",
       "      <td>My</td>\n",
       "    </tr>\n",
       "    <tr>\n",
       "      <th>3</th>\n",
       "      <td>60837.461743277927</td>\n",
       "      <td>39894.619216024876</td>\n",
       "      <td>0.684410311306</td>\n",
       "      <td>0.094001335001</td>\n",
       "      <td>0.000002369675</td>\n",
       "      <td>0.000000007531</td>\n",
       "      <td>12.514891831265</td>\n",
       "      <td>168.342651846445</td>\n",
       "      <td>1</td>\n",
       "      <td>My</td>\n",
       "    </tr>\n",
       "    <tr>\n",
       "      <th>4</th>\n",
       "      <td>60837.461743277927</td>\n",
       "      <td>39894.619216024876</td>\n",
       "      <td>0.669628983034</td>\n",
       "      <td>0.084556776784</td>\n",
       "      <td>0.000002362086</td>\n",
       "      <td>0.000000007531</td>\n",
       "      <td>12.514891831265</td>\n",
       "      <td>168.342651846445</td>\n",
       "      <td>1</td>\n",
       "      <td>My</td>\n",
       "    </tr>\n",
       "    <tr>\n",
       "      <th>...</th>\n",
       "      <td>...</td>\n",
       "      <td>...</td>\n",
       "      <td>...</td>\n",
       "      <td>...</td>\n",
       "      <td>...</td>\n",
       "      <td>...</td>\n",
       "      <td>...</td>\n",
       "      <td>...</td>\n",
       "      <td>...</td>\n",
       "      <td>...</td>\n",
       "    </tr>\n",
       "    <tr>\n",
       "      <th>2291</th>\n",
       "      <td>60837.476761332822</td>\n",
       "      <td>41192.179146409035</td>\n",
       "      <td>0.308145174122</td>\n",
       "      <td>0.047393746062</td>\n",
       "      <td>0.000002007149</td>\n",
       "      <td>0.000000007531</td>\n",
       "      <td>-146.205918843330</td>\n",
       "      <td>-191.611671621084</td>\n",
       "      <td>30</td>\n",
       "      <td>My</td>\n",
       "    </tr>\n",
       "    <tr>\n",
       "      <th>2292</th>\n",
       "      <td>60837.476761332822</td>\n",
       "      <td>41192.179146409035</td>\n",
       "      <td>0.282333267072</td>\n",
       "      <td>0.063171190873</td>\n",
       "      <td>0.000001999634</td>\n",
       "      <td>0.000000007531</td>\n",
       "      <td>-146.205918843330</td>\n",
       "      <td>-191.611671621084</td>\n",
       "      <td>30</td>\n",
       "      <td>My</td>\n",
       "    </tr>\n",
       "    <tr>\n",
       "      <th>2293</th>\n",
       "      <td>60837.476761332822</td>\n",
       "      <td>41192.179146409035</td>\n",
       "      <td>0.294331612624</td>\n",
       "      <td>0.062239186434</td>\n",
       "      <td>0.000001992121</td>\n",
       "      <td>0.000000007531</td>\n",
       "      <td>-146.205918843330</td>\n",
       "      <td>-191.611671621084</td>\n",
       "      <td>30</td>\n",
       "      <td>My</td>\n",
       "    </tr>\n",
       "    <tr>\n",
       "      <th>2294</th>\n",
       "      <td>60837.476761332822</td>\n",
       "      <td>41192.179146409035</td>\n",
       "      <td>0.340657123850</td>\n",
       "      <td>0.081215388301</td>\n",
       "      <td>0.000001984610</td>\n",
       "      <td>0.000000007531</td>\n",
       "      <td>-146.205918843330</td>\n",
       "      <td>-191.611671621084</td>\n",
       "      <td>30</td>\n",
       "      <td>My</td>\n",
       "    </tr>\n",
       "    <tr>\n",
       "      <th>2295</th>\n",
       "      <td>60837.476761332822</td>\n",
       "      <td>41192.179146409035</td>\n",
       "      <td>0.330297784695</td>\n",
       "      <td>0.162151860131</td>\n",
       "      <td>0.000001977100</td>\n",
       "      <td>0.000000007531</td>\n",
       "      <td>-146.205918843330</td>\n",
       "      <td>-191.611671621084</td>\n",
       "      <td>30</td>\n",
       "      <td>My</td>\n",
       "    </tr>\n",
       "  </tbody>\n",
       "</table>\n",
       "<p>2296 rows × 10 columns</p>\n",
       "</div>"
      ],
      "text/plain": [
       "                    MJD               Time             V2         V2_err  \\\n",
       "0    60837.461743277927 39894.619216024876 0.668750964549 0.153559849840   \n",
       "1    60837.461743277927 39894.619216024876 0.656575131169 0.109688726659   \n",
       "2    60837.461743277927 39894.619216024876 0.694847882592 0.112136924113   \n",
       "3    60837.461743277927 39894.619216024876 0.684410311306 0.094001335001   \n",
       "4    60837.461743277927 39894.619216024876 0.669628983034 0.084556776784   \n",
       "...                 ...                ...            ...            ...   \n",
       "2291 60837.476761332822 41192.179146409035 0.308145174122 0.047393746062   \n",
       "2292 60837.476761332822 41192.179146409035 0.282333267072 0.063171190873   \n",
       "2293 60837.476761332822 41192.179146409035 0.294331612624 0.062239186434   \n",
       "2294 60837.476761332822 41192.179146409035 0.340657123850 0.081215388301   \n",
       "2295 60837.476761332822 41192.179146409035 0.330297784695 0.162151860131   \n",
       "\n",
       "        Eff_wave[m]    Eff_band[m]         UCOORD[m]         VCOORD[m]  \\\n",
       "0    0.000002392452 0.000000007531   12.514891831265  168.342651846445   \n",
       "1    0.000002384858 0.000000007531   12.514891831265  168.342651846445   \n",
       "2    0.000002377266 0.000000007531   12.514891831265  168.342651846445   \n",
       "3    0.000002369675 0.000000007531   12.514891831265  168.342651846445   \n",
       "4    0.000002362086 0.000000007531   12.514891831265  168.342651846445   \n",
       "...             ...            ...               ...               ...   \n",
       "2291 0.000002007149 0.000000007531 -146.205918843330 -191.611671621084   \n",
       "2292 0.000001999634 0.000000007531 -146.205918843330 -191.611671621084   \n",
       "2293 0.000001992121 0.000000007531 -146.205918843330 -191.611671621084   \n",
       "2294 0.000001984610 0.000000007531 -146.205918843330 -191.611671621084   \n",
       "2295 0.000001977100 0.000000007531 -146.205918843330 -191.611671621084   \n",
       "\n",
       "      Bracket Instrument  \n",
       "0           1         My  \n",
       "1           1         My  \n",
       "2           1         My  \n",
       "3           1         My  \n",
       "4           1         My  \n",
       "...       ...        ...  \n",
       "2291       30         My  \n",
       "2292       30         My  \n",
       "2293       30         My  \n",
       "2294       30         My  \n",
       "2295       30         My  \n",
       "\n",
       "[2296 rows x 10 columns]"
      ]
     },
     "execution_count": 10,
     "metadata": {},
     "output_type": "execute_result"
    }
   ],
   "source": [
    "datamy"
   ]
  },
  {
   "cell_type": "code",
   "execution_count": 12,
   "id": "7218c582-0b97-43fc-a4f5-6f62ca04b9ca",
   "metadata": {},
   "outputs": [],
   "source": [
    "pavo_data = PavoData(datap)\n",
    "vega_data = VegaData(datav)\n",
    "classic_data = ClassicData(datac)\n",
    "mircx_data = MircxData(datam)\n",
    "mystic_data = MysticData(datamy)\n",
    "spica_data = SpicaData(datas)"
   ]
  },
  {
   "cell_type": "code",
   "execution_count": 13,
   "id": "42f725e2-83d6-483d-81bb-d08b653b5ec9",
   "metadata": {},
   "outputs": [],
   "source": [
    "df_m = mircx_data.make_df()\n",
    "df_my = mystic_data.make_df()\n",
    "df_p = pavo_data.make_df()\n",
    "df_v = vega_data.make_df()\n",
    "df_c = classic_data.make_df()\n",
    "df_s = spica_data.make_df()"
   ]
  },
  {
   "cell_type": "code",
   "execution_count": null,
   "id": "e3fd6a51-d824-4a9d-9f07-05e2bc8c871e",
   "metadata": {},
   "outputs": [],
   "source": [
    "df_m"
   ]
  },
  {
   "cell_type": "code",
   "execution_count": 14,
   "id": "c346ba89-2c61-4cc6-89fe-1eb1f54e0170",
   "metadata": {},
   "outputs": [],
   "source": [
    "b, v2, dv2, wave, band, brack, inst = combined(df_p, df_c, df_v, df_m,df_my, df_s)\n",
    "spf = b/wave"
   ]
  },
  {
   "cell_type": "code",
   "execution_count": 15,
   "id": "f813475d-8dcb-453b-bada-38a65bfa12ac",
   "metadata": {},
   "outputs": [],
   "source": [
    "star = StellarParams()\n",
    "p = 152.864\n",
    "dp = 0.0494\n",
    "f = 21.751\n",
    "df = 0.585\n",
    "logg = 4.5\n",
    "dlogg = 0.1\n",
    "m = 0.09\n",
    "dm = 0.08\n",
    "\n",
    "star.fbol = f\n",
    "star.fbol_err = df\n",
    "star.logg = logg\n",
    "star.logg_err = dlogg\n",
    "star.feh = m\n",
    "star.feh_err = dm\n",
    "star.plx = p\n",
    "star.plx_err = dp"
   ]
  },
  {
   "cell_type": "code",
   "execution_count": 16,
   "id": "32ebce57-9dad-4b0d-9d15-3aab058bb9c0",
   "metadata": {},
   "outputs": [
    {
     "name": "stdout",
     "output_type": "stream",
     "text": [
      "Found Gaia DR3 ID: Gaia DR3 2009481748875806976\n",
      "Corrected parallax: 152.83842 [mas]\n",
      "Distance: 6.54286 +/- 0.00212 [pc]\n"
     ]
    },
    {
     "name": "stderr",
     "output_type": "stream",
     "text": [
      "C:\\Users\\oxfor\\anaconda3\\lib\\site-packages\\zero_point\\zpt.py:205: UserWarning: The apparent magnitude of one or more of the sources is outside the expected range (6-21 mag). \n",
      "                Outside this range, there is no further interpolation, thus the values at 6 or 21 are returned.\n",
      "  warnings.warn(\n"
     ]
    }
   ],
   "source": [
    "D, dD = distances('HD 219134', verbose = True)\n",
    "star.dist = D\n",
    "star.dist_err = dD"
   ]
  },
  {
   "cell_type": "code",
   "execution_count": 17,
   "id": "2c95a288-f1b1-45cf-8074-56e64dbc71c1",
   "metadata": {},
   "outputs": [
    {
     "name": "stdout",
     "output_type": "stream",
     "text": [
      "Initial fit with lmfit:\n",
      "[[Model]]\n",
      "    Model(UDV2)\n",
      "[[Fit Statistics]]\n",
      "    # fitting method   = leastsq\n",
      "    # function evals   = 13\n",
      "    # data points      = 3660\n",
      "    # variables        = 1\n",
      "    chi-square         = 5290.82238\n",
      "    reduced chi-square = 1.44597496\n",
      "    Akaike info crit   = 1350.74860\n",
      "    Bayesian info crit = 1356.95382\n",
      "    R-squared          = -9.85070044\n",
      "[[Variables]]\n",
      "    theta:  1.06097079 +/- 8.2701e-04 (0.08%) (init = 0.4)\n"
     ]
    }
   ],
   "source": [
    "theta1, dtheta1, chisqr1 = initial_UDfit(spf, v2, dv2, 0.4, star, verbose = True)\n"
   ]
  },
  {
   "cell_type": "code",
   "execution_count": 18,
   "id": "fea80def-d5b8-46d7-921d-e2c7be74364a",
   "metadata": {},
   "outputs": [
    {
     "name": "stdout",
     "output_type": "stream",
     "text": [
      "Effective temperature: 4908.17082 +/- 33.0575 K\n",
      "LDC for filter  R : 0.67269\n",
      "Initial fit with lmfit:\n",
      "[[Model]]\n",
      "    Model(V2)\n",
      "[[Fit Statistics]]\n",
      "    # fitting method   = leastsq\n",
      "    # function evals   = 9\n",
      "    # data points      = 3660\n",
      "    # variables        = 1\n",
      "    chi-square         = 5098.74459\n",
      "    reduced chi-square = 1.39348035\n",
      "    Akaike info crit   = 1215.40421\n",
      "    Bayesian info crit = 1221.60942\n",
      "    R-squared          = -9.45677708\n",
      "[[Variables]]\n",
      "    theta:  1.13657737 +/- 8.9596e-04 (0.08%) (init = 1.06097)\n"
     ]
    }
   ],
   "source": [
    "theta2, dtheta2, chisqr2 = initial_LDfit(spf, v2, dv2, star, 'R', verbose = True)"
   ]
  },
  {
   "cell_type": "code",
   "execution_count": 20,
   "id": "43ae08e0-ad3a-4f2b-9a12-2cbb72112234",
   "metadata": {},
   "outputs": [],
   "source": [
    "results = run_UDfit(10, 10, datasets = [pavo_data, vega_data, classic_data, mircx_data,mystic_data, spica_data], stellar_params = star)"
   ]
  },
  {
   "cell_type": "code",
   "execution_count": 21,
   "id": "4bfbc530-5271-4f36-862f-76ba6253d9a6",
   "metadata": {},
   "outputs": [
    {
     "name": "stdout",
     "output_type": "stream",
     "text": [
      "Uniform Disk Diameter after MC/BS: 1.0591 +/- 0.00787 mas\n",
      "Chi-squared: 8192.861\n",
      "Chi-squared reduced: 2.239\n",
      "Temperature: 4912.4 +/- 37.7 K\n"
     ]
    }
   ],
   "source": [
    "udfit_values(spf, v2, dv2, results, stellar_params = star, verbose = True)"
   ]
  },
  {
   "cell_type": "code",
   "execution_count": 22,
   "id": "857adb61-77c2-430b-b54e-5170f1c974d5",
   "metadata": {},
   "outputs": [
    {
     "name": "stdout",
     "output_type": "stream",
     "text": [
      "Final Values after  11  iterations:\n",
      "Limb-darkened Disk Diameter after MC/BS: 1.1085 +/- 0.00516 mas\n",
      "Limb-darkening coefficient in R: 0.68333\n",
      "Chi-squared for R band: 6240.554\n",
      "Reduced chi-squared for R band: 1.706\n",
      "Limb-darkening coefficient in K: 0.32169\n",
      "Chi-squared for K band: 5592.284\n",
      "Reduced chi-squared for K band: 1.528\n",
      "Limb-darkening coefficient in H: 0.37447\n",
      "Chi-squared for H band: 5360.191\n",
      "Reduced chi-squared for H band: 1.465\n",
      "Temperature: 4801.8 +/- 34.2 K\n",
      "Percent difference: 0.01 %\n",
      "Percent difference: 0.02 %\n"
     ]
    }
   ],
   "source": [
    "thetaf, dthetaf, tf, dtf, ldcsf, chisf = run_LDfit(2, 2, ogdata = [spf, v2, dv2], datasets = [pavo_data, vega_data, classic_data, mircx_data, mystic_data, spica_data], stellar_params = star, verbose = True)"
   ]
  },
  {
   "cell_type": "code",
   "execution_count": 23,
   "id": "b2577369-553a-415a-8627-c9eaccee3279",
   "metadata": {},
   "outputs": [
    {
     "name": "stdout",
     "output_type": "stream",
     "text": [
      "Linear Radius:  0.781 +/- 0.004 [R_solar]\n",
      "Luminosity:  0.291 +/- 0.008 [L_solar]\n",
      "Effective temperature:  4801.836 +/- 34.166 [K]\n"
     ]
    }
   ],
   "source": [
    "calc_star_params(star, verbose = True)"
   ]
  },
  {
   "cell_type": "code",
   "execution_count": 25,
   "id": "1259816e-53da-4da9-82b0-5c5417d25e80",
   "metadata": {},
   "outputs": [],
   "source": [
    "data_dict = {'pavo':pavo_data, 'vega':vega_data, 'classic':classic_data, 'mircx':mircx_data,'mystic':mystic_data, 'spica':spica_data}\n"
   ]
  },
  {
   "cell_type": "code",
   "execution_count": 32,
   "id": "621768dc-ebb3-476d-ba69-090ec3bad260",
   "metadata": {},
   "outputs": [
    {
     "data": {
      "image/png": "[encoded data removed]",
      "text/plain": [
       "<Figure size 640x480 with 2 Axes>"
      ]
     },
     "metadata": {},
     "output_type": "display_data"
    },
    {
     "data": {
      "text/plain": [
       "(<Figure size 640x480 with 2 Axes>,\n",
       " (<Axes: title={'center': '$\\\\rm HD~219134$'}, ylabel='$V^2$'>,\n",
       "  <Axes: xlabel='$\\\\rm Spatial$ $\\\\rm frequency$ [$\\\\rm rad^{-1}$]', ylabel='$\\\\rm Residual$'>))"
      ]
     },
     "execution_count": 32,
     "metadata": {},
     "output_type": "execute_result"
    }
   ],
   "source": [
    "plot_v2_fit(\n",
    "    data_dict=data_dict,\n",
    "    star=star,        \n",
    "    datasets_to_plot=['pavo', 'classic', 'vega', 'mircx', 'mystic'],\n",
    "    to_bin = ['mystic', 'mircx', 'pavo'],\n",
    "    plot_udmodel = True,\n",
    "    title = rf'$\\rm HD~219134$',\n",
    "    #set_axis= [-0.05, 5e8, -0.05, 1.1],\n",
    "    eq_text=True,\n",
    "    show = True\n",
    "    )"
   ]
  },
  {
   "cell_type": "code",
   "execution_count": null,
   "id": "6432ef88-80b1-4777-a4d5-17e6d89757fd",
   "metadata": {},
   "outputs": [],
   "source": [
    "plot_v2_fit(\n",
    "    data_dict=data_dict,\n",
    "    star=star,        \n",
    "    datasets_to_plot=['mircx'],\n",
    "    plot_udmodel = True,\n",
    "    title = rf'$\\rm HD~219134$',\n",
    "    #set_axis= [-0.05, 5e8, -0.05, 1.1],\n",
    "    eq_text=True,\n",
    "    show = True\n",
    "    )"
   ]
  },
  {
   "cell_type": "code",
   "execution_count": null,
   "id": "af488c9e-9af5-4763-b8a8-2d5649924a40",
   "metadata": {},
   "outputs": [],
   "source": []
  },
  {
   "cell_type": "code",
   "execution_count": null,
   "id": "3a63611f-f3f0-4b42-9e95-5d3f8f7999aa",
   "metadata": {},
   "outputs": [],
   "source": [
    "datas"
   ]
  },
  {
   "cell_type": "code",
   "execution_count": null,
   "id": "f2e1df49-6b5d-4bad-9b1b-b247ef0a8799",
   "metadata": {},
   "outputs": [],
   "source": [
    "ucoord = datas['UCOORD[m]']\n",
    "vcoord = datas['VCOORD[m]']\n",
    "v2 = datas['V2']\n",
    "wave = datas['Eff_wave[m]']\n",
    "import numpy as np\n",
    "base = np.sqrt(ucoord**2 + vcoord**2)\n",
    "spf = base/wave"
   ]
  },
  {
   "cell_type": "code",
   "execution_count": null,
   "id": "e70d773b-a81a-47ba-9dce-88116b6876c7",
   "metadata": {},
   "outputs": [],
   "source": [
    "pip list"
   ]
  },
  {
   "cell_type": "code",
   "execution_count": null,
   "id": "adc93a8e-bb84-4ebe-ac60-e04ee90e5a5e",
   "metadata": {},
   "outputs": [],
   "source": [
    "import matplotlib.pyplot as plt"
   ]
  },
  {
   "cell_type": "code",
   "execution_count": null,
   "id": "6df6a7fd-34fa-4461-8bda-af620a7f6162",
   "metadata": {},
   "outputs": [],
   "source": [
    "plt.close()\n",
    "plt.plot(df_m['B']/df_m['Wave'], df_m['V2'], '.', label = 'MIRCX')\n",
    "plt.plot(df_p['B']/df_p['Wave'], df_p['V2'], '.', label = 'PAVO')\n",
    "plt.plot(df_c['B']/df_c['Wave'], df_c['V2'], '.', label = 'Classic')\n",
    "plt.plot(df_v['B']/df_v['Wave'], df_v['V2'], '.', label = 'VEGA')\n",
    "plt.plot(df_s['B']/df_s['Wave'], df_s['V2'], '.', label = 'SPICA')\n",
    "plt.legend()\n",
    "plt.show()"
   ]
  },
  {
   "cell_type": "code",
   "execution_count": null,
   "id": "ddf10d05-244b-42b8-8dc3-87f54aea1362",
   "metadata": {},
   "outputs": [],
   "source": [
    "datas = oifits_to_pandas(filenames, 'S')"
   ]
  },
  {
   "cell_type": "code",
   "execution_count": null,
   "id": "f8498e43-3e67-4f0f-930c-2cf539bab9d4",
   "metadata": {},
   "outputs": [],
   "source": [
    "ucoord = datas['UCOORD[m]']\n",
    "vcoord = datas['VCOORD[m]']\n",
    "v2 = datas['V2']\n",
    "wave = datas['Eff_wave[m]']\n",
    "import numpy as np\n",
    "base = np.sqrt(ucoord**2 + vcoord**2)\n",
    "spf = base/wave"
   ]
  },
  {
   "cell_type": "code",
   "execution_count": null,
   "id": "268a556e-2e47-4d5f-97f9-c81fec5b110d",
   "metadata": {},
   "outputs": [],
   "source": [
    "plt.plot(spf, v2, '.')"
   ]
  },
  {
   "cell_type": "code",
   "execution_count": null,
   "id": "a4c78f3c-d7b0-4928-af2f-f996f0c3da6a",
   "metadata": {},
   "outputs": [],
   "source": []
  }
 ],
 "metadata": {
  "kernelspec": {
   "display_name": "Python 3 (ipykernel)",
   "language": "python",
   "name": "python3"
  },
  "language_info": {
   "codemirror_mode": {
    "name": "ipython",
    "version": 3
   },
   "file_extension": ".py",
   "mimetype": "text/x-python",
   "name": "python",
   "nbconvert_exporter": "python",
   "pygments_lexer": "ipython3",
   "version": "3.10.14"
  }
 },
 "nbformat": 4,
 "nbformat_minor": 5
}
