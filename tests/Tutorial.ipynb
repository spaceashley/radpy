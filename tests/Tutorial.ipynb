{
 "cells": [
  {
   "cell_type": "markdown",
   "id": "de5d7b09-0427-4d74-b7ba-898ff574c70d",
   "metadata": {},
   "source": [
    "# Robust Angular Diameters in Python (`RADPy`)"
   ]
  },
  {
   "cell_type": "markdown",
   "id": "7ab9da03-2db5-492f-bfe7-8c417dcfa267",
   "metadata": {},
   "source": [
    "## Introduction to `RADPy`\n",
    "\n",
    "`RADPy` stands for Robust Angular Diameters in Python. This was created to allow for multi-wavelength fits for angular diameters of stars measured with interferometric methods. Currently `RADPy` only has compatibility with the instruments on the Center for High Angular Resolution Astronomy (CHARA) Array. `RADPy` is currently configured for the following instruments at CHARA:\n",
    "\n",
    "- Classic/CLIMB\n",
    "- PAVO\n",
    "- VEGA\n",
    "- MIRC-X (in progress)\n",
    "\n",
    "The remaining CHARA instruments SPICA and MYSTIC will be integrated soon.\n",
    "\n",
    "## What does `RADPy` actually do?\n",
    "`RADPy` accepts data from an arbitrary number of beam-combiners from CHARA and allows the user to fit for the angular diameters (both uniform disk and limb-darkened disk) of single stars. With the fitted angular diameter, the user can also calculate the remaining fundamental stellar parameters of effective temperature, stellar luminosity, and radius of the measured star. The user can also plot the interferometric data with the chosen angular diameter fit (uniform or limb-darkened) which will output a publication ready plot. The plotting is highly customizable to the user's needs, including the type of model plotted, the ability to add the diameter in text to said plot, the binning of the data if the user choses to, and more. \n",
    "\n",
    "The core of `RADPy` is a Monte Carlo simulation that involves a custom-built bracket bootstrapping within. A bracket in the realm of interferometry describes a set of data taken at the same time. Several instruments at CHARA span a wavelength range, so for every one observation, there is a span of data points to cover the wavelength ranges. `RADPy` automatically assigns a bracket number to the data once the data files are read in. The bracket numbers are assigned based on time-stamp and for PAVO, based on the same UCOORD and VCOORD measurements (as PAVO data does not output a time stamp). \n",
    "\n",
    "For uniform disk diameters, `RADPy` will sample the wavelength of observations on a normal distribution. Within the bracket bootstrapping, the visibilities of each bracket chosen to be fit are sampled on a normal distribution. Using lmfit, the data are then fit using the uniform disk visibility squared equation. The final output results in a list of angular diameters calculated. The final uniform disk diameter is determined by taking the average of the uniform disk diameters and the error is determined by taking the mean absolute deviation. \n",
    "\n",
    "For limb-darkened disk diameters, `RADPy` follows a similar structure to the uniform disk diameters. There are a few differences which I'll highlight below:\n",
    "\n",
    "- One needs the limb-darkening coefficient. To account for the limb-darkening coefficient, the tables of limb-darkening coefficients determined by Claret et al. 2011 are used. Based on the observation band, surface gravity (log g), and the effective temperature (Teff) of the star, `RADPy` will use an interpolated function based on the Claret tables to calculate the limb-darkening coefficient. If the effective temperature is less than 3500 and the surface gravity is between 3.5 and 5, the tables with the PHOENIX models are used. For all other stars, the tables with the ATLAS models are used.\n",
    "- For each iteration of the MC, `RADPy` calculates a limb-darkening coefficient for each band used (i.e. R-band). Within the bootstrapping, `RADPy` samples the limb-darkening coefficient on a normal distribution using 0.02 has the \"error\". The limb-darkening coefficient is then used in the full visibility squared equation and the limb-darkened angular diameter is fit.\n",
    "- To ensure `RADPy` is fitting for the optimal angular diameter, the limb-darkened disk fitting function will iterate until minimal change between the previous angular diameter and the one just calculated is seen. For robustness, the effective temperature is also checked as well. Minimal change is defined as being less than or equal to 0.05% difference.\n",
    "\n",
    "## What is in this notebook?\n",
    "\n",
    "This tutorial is designed to show the general steps of how a user should implement `RADPy` for your own angular diameter fitting needs. This notebook will go over how to install, how to import the necessary modules from `RADPy`, how to read in your data, how to perform initial fits, how to run the Monte Carlo simulations, how to calculate the remaining stellar parameters, and how to generate publicaiton ready plots. \n",
    "\n",
    "## Usage\n",
    "\n",
    "If you do use this package, please use the following citation:\n",
    "\n",
    "## Contact\n",
    "- Ashley Elliott (aelli76@lsu.edu)\n",
    "\n",
    "## Resources\n",
    "Link to the github repository (currently private but will be made public soon once documentation is finished): <https://github.com/spaceashley/radpy>\n"
   ]
  },
  {
   "cell_type": "markdown",
   "id": "d8772b4d-0617-4356-8271-f5556ce8191f",
   "metadata": {},
   "source": [
    "## To install:\n",
    "\n",
    "**Please pay careful attention to this!!**\n",
    "\n",
    "Simply use pip to install `RADPy`. Due to naming conflicts, to install `RADPy`, you must use \"rsadpy\". \n",
    "\n",
    "`pip install rsadpy`\n",
    "\n",
    "The installation should also install all necessary additional packages you need to run everything. Just in case, here is a list of all the necessary packages that aren't default:\n",
    "- `lmfit`\n",
    "- `astropy`\n",
    "- `astroquery`\n",
    "- `gaiadr3-zeropoint`\n",
    "\n",
    "To test if the installation worked, import RADPy. If you did not get an error, you should be all set. \n",
    "\n",
    "`import radpy`\n",
    "\n",
    "NOTE: \n",
    "\n",
    "to _install_, use rsadpy. \n",
    "\n",
    "to _import_, use radpy"
   ]
  },
  {
   "cell_type": "code",
   "execution_count": null,
   "id": "566c5ce7-3dca-46d8-8016-16c181b2aaba",
   "metadata": {},
   "outputs": [],
   "source": [
    "#pip install rsadpy"
   ]
  },
  {
   "cell_type": "code",
   "execution_count": null,
   "id": "a7ce3f29-22f9-426b-8350-ea976dcea086",
   "metadata": {},
   "outputs": [],
   "source": [
    "#import radpy"
   ]
  },
  {
   "cell_type": "markdown",
   "id": "762f0ab0-3ab2-4e9f-b77b-614bbfae2632",
   "metadata": {},
   "source": [
    "## Step 1: Getting the data set-up for use\n",
    "Now that you've installed `RADPy`, first step is to read in your data files.\n",
    "\n",
    "`RADPy` accepts .txt, .fits, .csv, and .oifits.\n",
    "\n",
    "Your first step is to import all modules from `radpy.datareadandformat` using the \"*\". \n"
   ]
  },
  {
   "cell_type": "code",
   "execution_count": 1,
   "id": "8c8ce8d8-df6b-4bc7-96b3-ae7c72a41570",
   "metadata": {},
   "outputs": [],
   "source": [
    "from radpy.datareadandformat import *"
   ]
  },
  {
   "cell_type": "markdown",
   "id": "923328b0-0453-4bd1-bff6-f977de12c55b",
   "metadata": {},
   "source": [
    "Next step is to set your file path. In the example below, I'm setting the file path for three different instruments."
   ]
  },
  {
   "cell_type": "code",
   "execution_count": null,
   "id": "5faa6d87-8e85-4515-b34b-9147e1404592",
   "metadata": {},
   "outputs": [],
   "source": [
    "filenamec = \"C:\\\\Users\\\\oxfor\\\\Research\\\\rsadpy\\\\radpy\\\\data\\\\ClassicData.csv\"\n",
    "filenamep = \"C:\\\\Users\\\\oxfor\\\\Research\\\\rsadpy\\\\radpy\\\\data\\\\PAVOdata.csv\"\n",
    "filenamev = \"C:\\\\Users\\\\oxfor\\\\Research\\\\rsadpy\\\\radpy\\\\data\\\\Vegadata.csv\""
   ]
  },
  {
   "cell_type": "code",
   "execution_count": 2,
   "id": "a3eed899-c642-45e1-aba2-9849b2fdb161",
   "metadata": {},
   "outputs": [],
   "source": [
    "filename = \"C:\\\\Users\\\\oxfor\\\\Research\\\\rsadpy\\\\tests\\\\output_184499.txt\""
   ]
  },
  {
   "cell_type": "code",
   "execution_count": 3,
   "id": "29e0029e-c580-4bf6-9bad-979d49a09ace",
   "metadata": {},
   "outputs": [
    {
     "name": "stdout",
     "output_type": "stream",
     "text": [
      "Header detected: ['B/lambda', 'V2', 'sigma_V2', 'U(meters)', 'V(meters)']\n",
      "Number of brackets: 16\n"
     ]
    }
   ],
   "source": [
    "data, num_brack = filename_extension(filename, 'P', verbose = True)"
   ]
  },
  {
   "cell_type": "code",
   "execution_count": null,
   "id": "39ea40f7-aaf0-4e86-8c7f-08b93b10f739",
   "metadata": {},
   "outputs": [],
   "source": [
    "data"
   ]
  },
  {
   "cell_type": "markdown",
   "id": "6cba9328-04d6-4329-8a07-86832f801c87",
   "metadata": {},
   "source": [
    "Next, we want to use the function `filename_extension()`. \n",
    "The two inputs will be your filepath you just set above and then an indicator for which instrument the data are from. \n",
    "Here are the list of acceptable inficators:\n",
    "- 'C' for Classic.\n",
    "- 'V' for VEGA\n",
    "- 'P' for PAVO\n",
    "- 'M' for MIRC-X\n",
    "- 'My' for MYSTIC\n",
    "- 'S' for SPICA"
   ]
  },
  {
   "cell_type": "code",
   "execution_count": null,
   "id": "521ab632-0e7f-455b-b8cb-d57181046a38",
   "metadata": {},
   "outputs": [],
   "source": [
    "#datav, num_brack_v = filename_extension(filenamev, 'V')\n",
    "#datac, num_brack_c = filename_extension(filenamec, 'C')\n",
    "#datap, num_brack_p = filename_extension(filenamep, 'P')\n",
    "data, num_brack = filename_extension(filename, 'P', verbose = True)"
   ]
  },
  {
   "cell_type": "markdown",
   "id": "1b0279e8-64a7-49a1-b000-fa2335bfa5a2",
   "metadata": {},
   "source": [
    "Our next step is to convert the data into an `InterferometryData` object. This object will allow for ease of use through the fitting. \n",
    "There is an object name for each instrument (so far). \n",
    "\n",
    "Below is the syntax:\n",
    "\n",
    "PAVO - `PavoData(data)`\n",
    "\n",
    "VEGA - `VegaData(data)`\n",
    "\n",
    "Classic - `ClassicData(data)`\n",
    "\n",
    "MIRCX - `MircxData(data)`\n",
    "\n",
    "The \"data\" will be the output of the `filename_extension` function you called in the previous step. \n"
   ]
  },
  {
   "cell_type": "code",
   "execution_count": 4,
   "id": "3517c3ec-db22-4441-a2cc-421c53910b8b",
   "metadata": {},
   "outputs": [],
   "source": [
    "pavo_data = PavoData(data)\n",
    "pavo_df = pavo_data.make_df()\n",
    "#vega_data = VegaData(datav)\n",
    "#classic_data = ClassicData(datac)"
   ]
  },
  {
   "cell_type": "markdown",
   "id": "24d41030-380b-4294-afa4-b5f60322f2f2",
   "metadata": {},
   "source": [
    "The last step to complete for getting the data ready to use is to combine all your data into one. RADPy is a combined fit so we need to of course combine the data. To do this, use the function `combined()`. \n",
    "\n",
    "The inputs for this function will be the data you would like to combine. So for the purposes of this tutorial, we are combining three data sets, PAVO, VEGA, and Classic. One key step here is to use the `InterferometryDataObject`'s attribute `make_df()`. This will convert your data into a pandas dataframe for use.\n"
   ]
  },
  {
   "cell_type": "code",
   "execution_count": null,
   "id": "69b0ba0e-55c1-4491-a8da-7246628c9047",
   "metadata": {},
   "outputs": [],
   "source": [
    "b, v2, dv2, wave, band, brack, inst = combined(pavo_data.make_df(), classic_data.make_df(), vega_data.make_df())\n",
    "spf = b/wave"
   ]
  },
  {
   "cell_type": "code",
   "execution_count": 5,
   "id": "ceafbc2d-53b4-4079-bead-a3ef23ca0432",
   "metadata": {},
   "outputs": [],
   "source": [
    "\n",
    "b, v2, dv2, wave, band, brack, inst = combined(pavo_data.make_df())\n",
    "spf = b/wave"
   ]
  },
  {
   "cell_type": "code",
   "execution_count": null,
   "id": "732d0a2a-8c28-4940-8501-6914b0ef38f2",
   "metadata": {},
   "outputs": [],
   "source": []
  },
  {
   "cell_type": "markdown",
   "id": "3d3239f4-aa45-42aa-940a-18ae1f8e38d1",
   "metadata": {},
   "source": [
    "In the above cell, **combined** will return the baseline, visibility squared, error on the visibility squared, the wavelength of each measurement, the bandwidth for each measurement, the bracket assigned to each measurement, and the instrument each data point is associated with. \n",
    "\n",
    "We also calculate the spatial frequency for use later (mainly for plotting) by dividing the baseline by the wavelength. "
   ]
  },
  {
   "cell_type": "markdown",
   "id": "cda078d1-b59b-443a-90a5-4e0b921bb728",
   "metadata": {},
   "source": [
    "## Step 2: Creating a Stellar Params object\n",
    "Aside from the data, the only other information needed for the fits to run are additional stellar parameters for your target. \n",
    "\n",
    "You need the following:\n",
    "| Parameter        | Unit          |\n",
    "| ------------- |:-------------:| \n",
    "| Bolometric Flux     | 10^-8 ergs/s/cm^2  |\n",
    "| Error on Bolometric Flux     | 10^-8 ergs/s/cm^2     |\n",
    "| [Fe/H] | dex      |\n",
    "| Error on [Fe/H] | dex |\n",
    "| Surface gravity (log g) | dex |\n",
    "|Error on surface gravity (log g) | dex |\n",
    "\n",
    "`RADPy` has a class named `StellarParams()`. This class will store all of your stellar parameters throughout the notebook. \n",
    "\n",
    "To create a `StellarParams()` object, first we need to import: `from radpy.stellar import *`\n"
   ]
  },
  {
   "cell_type": "code",
   "execution_count": 6,
   "id": "ab0a2f2f-731b-477d-b9c3-6f29ab59de1e",
   "metadata": {},
   "outputs": [],
   "source": [
    "from radpy.stellar import *"
   ]
  },
  {
   "cell_type": "markdown",
   "id": "720df8f6-e19b-4b80-babe-dc0a430369e2",
   "metadata": {},
   "source": [
    "To create the object, simply call the object: `StellarParams()`. "
   ]
  },
  {
   "cell_type": "code",
   "execution_count": 7,
   "id": "fe2bd84b-3a2f-4b5c-b91b-e71cc13456b4",
   "metadata": {},
   "outputs": [],
   "source": [
    "star = StellarParams()"
   ]
  },
  {
   "cell_type": "markdown",
   "id": "0008e974-6745-4505-b850-736edab5dbfc",
   "metadata": {},
   "source": [
    "We have now created a `StellarParams()` object. To see the contents of the object, just type out the name you called it. For this tutorial, I've named it `star`. You should be able to see all the parameters it has as a default, then there should be a `None` and then the associated unit with each variable. The `None` is there because we have yet to fill the object with any parameters. "
   ]
  },
  {
   "cell_type": "code",
   "execution_count": null,
   "id": "14e2ac96-46b9-45a3-a23a-021a8c9973cc",
   "metadata": {},
   "outputs": [],
   "source": [
    "star"
   ]
  },
  {
   "cell_type": "markdown",
   "id": "4e0d4976-b7af-4a80-8c28-9f4563d27a5b",
   "metadata": {},
   "source": [
    "Alright, lets add some parameters. \n",
    "\n",
    "To add parameters to your `StellarParams()` object, the syntax is: \"object name\".\"parameter name\". \n",
    "So for example, if I wanted to add the bolometric flux of my star to my object, I would say `star.fbol`. \n",
    "\n",
    "Lets go ahead and add my stellar parameters. "
   ]
  },
  {
   "cell_type": "code",
   "execution_count": null,
   "id": "1108c2a2-cc59-4554-95bd-7b56fdc4b2b7",
   "metadata": {},
   "outputs": [],
   "source": [
    "#Stellar parameters\n",
    "p = 152.864\n",
    "dp = 0.0494\n",
    "f = 21.751\n",
    "df = 0.585\n",
    "logg = 4.5\n",
    "dlogg = 0.1\n",
    "m = 0.09\n",
    "dm = 0.08\n",
    "\n",
    "star.fbol = f\n",
    "star.fbol_err = df\n",
    "star.logg = logg\n",
    "star.logg_err = dlogg\n",
    "star.feh = m\n",
    "star.feh_err = dm\n",
    "star.plx = p\n",
    "star.plx_err = dp"
   ]
  },
  {
   "cell_type": "code",
   "execution_count": 8,
   "id": "e0201922-42ac-4b3b-b81d-cad11873d12a",
   "metadata": {},
   "outputs": [],
   "source": [
    "#Stellar parameters\n",
    "f = 6.2\n",
    "df = (6.2)*(0.05)\n",
    "logg = 4.1\n",
    "dlogg = 0.1\n",
    "m = -0.6\n",
    "dm = 0.1\n",
    "\n",
    "star.fbol = f\n",
    "star.fbol_err = df\n",
    "star.logg = logg\n",
    "star.logg_err = dlogg\n",
    "star.feh = m\n",
    "star.feh_err = dm\n"
   ]
  },
  {
   "cell_type": "markdown",
   "id": "15cb90cc-65af-42a4-a029-841df10f938d",
   "metadata": {},
   "source": [
    "Great! Let's take a look at the object to make sure that it worked. "
   ]
  },
  {
   "cell_type": "code",
   "execution_count": null,
   "id": "07d9753f-9928-4109-8376-b55095a02ab8",
   "metadata": {},
   "outputs": [],
   "source": [
    "star"
   ]
  },
  {
   "cell_type": "markdown",
   "id": "306a5ad3-9f42-41ad-8fec-347bb88fd9a0",
   "metadata": {},
   "source": [
    "Next step is to calculate the distance. To do this, we call the `distances` function. This function will calculate the distance of your star using the parallax that you provided, or if no parallax is provided, will get the parallax for you using Gaia or Hipparcos. If you use Gaia, RADPy will apply the zero-point correction to your parallax, as described in <insert paper here>. If you use Hipparcos, no zero-point correction will be applied. The default is to use Gaia.\n",
    "\n",
    "Here are some example usages of the `distances` function for a variety of scenarios:\n",
    "\n",
    "Have your own parallax and it came from Gaia?: `D, dD = distances('object ID', plx = p, dplx = dp)`\n",
    "\n",
    "Have your own parallax and it came from Hipparcos?: `D, dD = distances('object ID', plx = p, dplx = dp, use_Hipp = True)`\n",
    "\n",
    "Don't have your own parallax and you want to use Gaia?: `D, dD = distances('object ID')`\n",
    "\n",
    "Don't have your own parallax and you want to use Hipparcos?: `D, dD = distances('object ID', use_Hipp = True)`\n",
    "\n",
    "If you would like to see where RADPy is getting your parallax from, set \"verbose\" = True. This will print out where it found the parallax. It will also print out the zero-point corrected parallax and the calculated distance. \n",
    "\n",
    "NOTE: A warning may appear saying something similar to \"UserWarning: The apparent magnitude of one or more of the sources is outside the expected range      (6-21 mag).\" This is fine. This is an error from `gaiadr3-zeropoint`. If your star is within the Gaia magnitude range (stars brighter than Gmag = 3),    use Hipparcos. \n",
    "\n"
   ]
  },
  {
   "cell_type": "code",
   "execution_count": 9,
   "id": "6909fcbf-3369-4a39-b81f-9764eb81a0bf",
   "metadata": {},
   "outputs": [
    {
     "name": "stdout",
     "output_type": "stream",
     "text": [
      "Found Gaia DR3: Gaia DR3 2045599984313800448\n",
      "Source ID 2045599984313800448\n",
      "Corrected parallax: 31.39\n",
      "Distance: 31.85892 +/- 0.01678 [pc]\n"
     ]
    }
   ],
   "source": [
    "D, dD = distances('HD 184499', verbose = True)\n",
    "star.dist = D\n",
    "star.dist_err = dD"
   ]
  },
  {
   "cell_type": "code",
   "execution_count": null,
   "id": "346c9527-73e4-4aad-9aeb-0d32a4b4804f",
   "metadata": {},
   "outputs": [],
   "source": [
    "star"
   ]
  },
  {
   "cell_type": "markdown",
   "id": "8d918f5f-72c4-4b3e-8ff0-e738c1ec1aa5",
   "metadata": {},
   "source": [
    "## Step 3: Initial fits\n",
    "\n",
    "Now we have our stellar parameters set up and our data read in and formatted like needed. Now lets start our fits. \n",
    "\n",
    "The first step for the fitting is to perform an initial fit for the uniform disk diameter and then for the limb-darkened disk diameter. \n",
    "\n",
    "We need to first import: `from radpy.LDfitting import initial_LDfit` and `from radpy.UDfitting import initial_UDfit`\n",
    "\n",
    "Next, we can run the initial uniform disk diameter fit using the function `initial_UDfit()`. \n",
    "\n",
    "The inputs to `initial_UDfit()' include:\n",
    "- spf: spatial frequency\n",
    "- v2: the visibility squared data\n",
    "- dv2: the error on the visibility squared data\n",
    "- initial_guess: an initial guess on the diameter\n",
    "- star: your `StellarParams()` object\n",
    "- verbose: default is set to False. If True, will print out the initial fit report from `lmfit`\n",
    "\n"
   ]
  },
  {
   "cell_type": "code",
   "execution_count": 10,
   "id": "c7d3c65f-447e-44cf-a746-04d5c80617bd",
   "metadata": {},
   "outputs": [],
   "source": [
    "from radpy.LDfitting import initial_LDfit\n",
    "from radpy.UDfitting import initial_UDfit"
   ]
  },
  {
   "cell_type": "code",
   "execution_count": 11,
   "id": "f51139ef-68a0-4ae5-9d86-5217d77b1806",
   "metadata": {},
   "outputs": [
    {
     "name": "stdout",
     "output_type": "stream",
     "text": [
      "Initial fit with lmfit:\n",
      "[[Model]]\n",
      "    Model(UDV2)\n",
      "[[Fit Statistics]]\n",
      "    # fitting method   = leastsq\n",
      "    # function evals   = 7\n",
      "    # data points      = 352\n",
      "    # variables        = 1\n",
      "    chi-square         = 353.775770\n",
      "    reduced chi-square = 1.00790818\n",
      "    Akaike info crit   = 3.77130608\n",
      "    Bayesian info crit = 7.63493725\n",
      "    R-squared          = -25.6325467\n",
      "[[Variables]]\n",
      "    theta:  0.38379149 +/- 0.00110746 (0.29%) (init = 0.4)\n"
     ]
    }
   ],
   "source": [
    "theta1, dtheta1, chisqr1 = initial_UDfit(spf, v2, dv2, 0.4, star, verbose = True)\n"
   ]
  },
  {
   "cell_type": "markdown",
   "id": "ad70dea7-8be8-457d-8615-1f7cf8d6263d",
   "metadata": {},
   "source": [
    "Next, our limb-darkened disk initial fit, using `initial_LDfit()`.\n",
    "\n",
    "The inputs for `initial_LDfit()` are:\n",
    "- spf: spatial frequency\n",
    "- v2: visibility squared data\n",
    "- dv2: the error\n",
    "- star: your `StellarParams()` object\n",
    "- filt: the filter in which you want to perform the initial fit in. Options include 'R', 'H', 'K', or 'J'.\n",
    "- verbose: default is set to False. If True, will print out the results of the initial fit from `lmfit`."
   ]
  },
  {
   "cell_type": "code",
   "execution_count": 12,
   "id": "bf530b2a-2617-4b30-8cc7-6a0bf905f6d6",
   "metadata": {},
   "outputs": [
    {
     "name": "stdout",
     "output_type": "stream",
     "text": [
      "Effective temperature: 5962.83111158608 +/- 75.0325135143018 K\n",
      "LDC for filter  R : 0.5250313919589626\n",
      "Initial fit with lmfit:\n",
      "[[Model]]\n",
      "    Model(V2)\n",
      "[[Fit Statistics]]\n",
      "    # fitting method   = leastsq\n",
      "    # function evals   = 9\n",
      "    # data points      = 352\n",
      "    # variables        = 1\n",
      "    chi-square         = 351.510971\n",
      "    reduced chi-square = 1.00145576\n",
      "    Akaike info crit   = 1.51063075\n",
      "    Bayesian info crit = 5.37426193\n",
      "    R-squared          = -25.4620506\n",
      "[[Variables]]\n",
      "    theta:  0.40270512 +/- 0.00117175 (0.29%) (init = 0.38379)\n"
     ]
    }
   ],
   "source": [
    "theta2, dtheta2, chisqr2 = initial_LDfit(spf, v2, dv2, star, 'R', verbose = True)"
   ]
  },
  {
   "cell_type": "markdown",
   "id": "f5caa13e-0662-4620-902e-6a222d47a93c",
   "metadata": {},
   "source": [
    "Both `initial_UDfit()` and `initial_LDfit()` automatically update the `StellarParams()` object with the initial results. "
   ]
  },
  {
   "cell_type": "code",
   "execution_count": null,
   "id": "b39a31ba-9bde-4637-9851-fc4c1d154d4e",
   "metadata": {},
   "outputs": [],
   "source": [
    "star"
   ]
  },
  {
   "cell_type": "markdown",
   "id": "7de326b1-2967-40e4-a1c1-2833c49bf73d",
   "metadata": {},
   "source": [
    "## Step 4: Running the fits\n",
    "\n",
    "Now that we have the initial fits done, we can now start the Monte Carlo simulations.\n",
    "\n",
    "First step is the uniform disk diameter fit. \n",
    "\n",
    "We need to first import the functions: `from radpy.UDfitting import run_udmcbs_fit, udfit_values`\n",
    "\n",
    "To call the Monte Carlo function, we use `run_udmcbs_fit()`. \n",
    "\n",
    "The inputs to this function include:\n",
    "- mc_num: number of Monte Carlo iterations you want\n",
    "- bs_num: number of bracket bootstrapping iterations you want\n",
    "- datasets: the datasets you want to fit (i.e. [data1, data2, data3])\n",
    "- stellar_params: your `StellarParams()` object\n",
    "- verbose: default is set to False\n",
    "\n",
    "This function will return a list of uniform disk diameters. \n",
    "\n",
    "NOTE: mc_num describes the number of outside loop iterations. bs_num will set the inner loop iterations. This means that if you set mc_num = 5, and bs_num = 5, you will have 5 iterations of the bracket bootstrapping for every one iteration of the mc_num, making it 25 iterations in total. For publication quality results, I recommend minimum mc_num = 71 and bs_num = 71, for 5041 iterations in total. "
   ]
  },
  {
   "cell_type": "code",
   "execution_count": 13,
   "id": "a3b65112-09ce-4011-956c-25be51cfd982",
   "metadata": {},
   "outputs": [],
   "source": [
    "from radpy.UDfitting import run_udmcbs_fit, udfit_values"
   ]
  },
  {
   "cell_type": "code",
   "execution_count": 14,
   "id": "12ed66ba-1450-43ef-8392-838f92506e68",
   "metadata": {},
   "outputs": [],
   "source": [
    "#results = run_udmcbs_fit(10, 10, datasets = [pavo_data, vega_data, classic_data], stellar_params = star)\n",
    "results = run_udmcbs_fit(71, 71, datasets = [pavo_data], stellar_params = star)"
   ]
  },
  {
   "cell_type": "markdown",
   "id": "0dec3c22-10ec-4208-8a30-131713e95373",
   "metadata": {},
   "source": [
    "Next, we need to calculate the uniform disk diameter and its error, along with the effective temperature. To do this, we use `udfit_values()`. This function will return the averaged uniform disk diameter, the error on said diameter, the chi-squared value of the fit, the chi-squared reduced value of the fit, and the effective temperature calculated using the diameter you just determined. \n",
    "\n",
    "The inputs to `udfit_values()`:\n",
    "- spf: spatial frequency\n",
    "- v2: the visibility squared\n",
    "- dv2: the error on the visibility squared\n",
    "- results: the results of `run_udmcbs_fit()`\n",
    "- stellar_params: the `StellarParams()` object\n",
    "- verbose: default is False. if set to True, will print out your results\n",
    "\n",
    "This function will also automatically update your `StellarParams()` object with the uniform disk angular diameter and error calculated as well as with the effective temperature. "
   ]
  },
  {
   "cell_type": "code",
   "execution_count": 15,
   "id": "80684a2c-7d7e-4705-8dcb-7218fa373c43",
   "metadata": {},
   "outputs": [
    {
     "name": "stdout",
     "output_type": "stream",
     "text": [
      "Uniform Disk Diameter after MC/BS: 0.384 +/- 0.00395 mas\n",
      "Chi-squared: 7.604497859625862\n",
      "Chi-squared reduced: 0.021665236067310148\n",
      "Temperature: 5961.6 +/- 80.6 K\n"
     ]
    }
   ],
   "source": [
    "udfit_values(spf, v2, dv2, results, stellar_params = star, verbose = True)"
   ]
  },
  {
   "cell_type": "code",
   "execution_count": null,
   "id": "4c8331ad-7a24-4d00-8f67-304c67d8e448",
   "metadata": {},
   "outputs": [],
   "source": [
    "star"
   ]
  },
  {
   "cell_type": "markdown",
   "id": "6353391a-725c-45be-9f74-26cdd505a7ca",
   "metadata": {},
   "source": [
    "Now time for the limb-darkened disk fit.\n",
    "\n",
    "We need to first import the functions: `from radpy.LDfitting import run_LDfit`\n",
    "\n",
    "To call the Monte Carlo function, we use `run_LDfit()`. \n",
    "\n",
    "The inputs to this function include:\n",
    "- mc_num: number of Monte Carlo iterations you want\n",
    "- bs_num: number of bracket bootstrapping iterations you want\n",
    "- ogdata: the original datasets you have (i.e. [odgata1, ogdata2,ogdata3])\n",
    "- datasets: the datasets you want to fit (i.e. [data1, data2, data3])\n",
    "- stellar_params: your `StellarParams()` object\n",
    "- verbose: default is set to False. If set to True, it will print out the results of the loop. \n",
    "\n",
    "This function will return the final limb-darkened angular diameter and its error, the final effective temeperature and its error, the limb-darkening coefficients for each band and the chi-squared values. The verbose print statement will display how many iterations it took to find minimal changes, the limb-darkened disk diameter and its error, the limb-darkening coefficients for each wavelength, the chi square value for each LDC, te chi square reduced value for each LDC, the effective temperature and its error, and the percent differences for the last iterations. \n",
    "\n",
    "This function will also automatically update the `StellarParams()` object with your final values. \n",
    "\n",
    "NOTE: mc_num describes the number of outside loop iterations. bs_num will set the inner loop iterations. This means that if you set mc_num = 5, and bs_num = 5, you will have 5 iterations of the bracket bootstrapping for every one iteration of the mc_num, making it 25 iterations in total. For publication quality results, I recommend minimum mc_num = 71 and bs_num = 71, for 5041 iterations in total. \n",
    "\n",
    "NOTE: The larger the numbers for mc_num and bs_num, the longer the fit will take. It should hopefully not take longer than 5-10 minutes."
   ]
  },
  {
   "cell_type": "code",
   "execution_count": null,
   "id": "0e0f79ef-0b56-427c-ad4e-b62a7ec6ea2f",
   "metadata": {},
   "outputs": [],
   "source": [
    "from radpy.LDfitting import run_LDfit"
   ]
  },
  {
   "cell_type": "code",
   "execution_count": null,
   "id": "b2b88f37-bc12-4cec-8e5f-013efe6907c6",
   "metadata": {},
   "outputs": [],
   "source": [
    "thetaf, dthetaf, tf, dtf, ldcsf, chisf = run_LDfit(2, 2, ogdata = [spf, v2, dv2], datasets = [pavo_data, vega_data, classic_data], stellar_params = star, verbose = True)"
   ]
  },
  {
   "cell_type": "code",
   "execution_count": null,
   "id": "9fc1a228-875c-4d7a-959f-0a985040cce6",
   "metadata": {},
   "outputs": [],
   "source": [
    "star"
   ]
  },
  {
   "cell_type": "markdown",
   "id": "29a5b4b7-f349-41a1-8e6e-3e2b3c097251",
   "metadata": {},
   "source": [
    "## Step 5: Remaining Stellar Parameters\n",
    "\n",
    "After we calculate the limb-darkened disk angular diameter and effective temperature, we can now calculate the radius of the star and the luminosity using the function `calc_star_params()`.\n",
    "\n",
    "The inputs are:\n",
    "- stellar_params: your `StellarParams()` object\n",
    "- verbose: default is False, if set to True, will print out the remaining stellar parameters to the screen\n",
    "\n",
    "This function will also automatically update your `StellarParams()` object with the parameters. "
   ]
  },
  {
   "cell_type": "code",
   "execution_count": null,
   "id": "be0d3ab2-551a-4174-a545-58291cf802f8",
   "metadata": {},
   "outputs": [],
   "source": [
    "calc_star_params(star, verbose = True)"
   ]
  },
  {
   "cell_type": "code",
   "execution_count": null,
   "id": "2bfe4386-0230-4c22-b850-244cdb7f37f6",
   "metadata": {},
   "outputs": [],
   "source": [
    "star"
   ]
  },
  {
   "cell_type": "markdown",
   "id": "fbfd9e4b-0032-4b44-8b9f-1c00fe958991",
   "metadata": {},
   "source": [
    "## Step 6: Plotting your data and the fit\n",
    "\n",
    "To plot the data and your fit(s), we will use the function `plot_vs_fit()`. This function allows the user to customize the plot to their liking. \n",
    "\n",
    "First we need to import the module: `from radpy.plotting import plot_v2_fit`\n",
    "\n",
    "We then need to created a dictionary of the data you would like to plot. This is just to make it easier for the function to plot the different datasets separately, with their own markers, colors, and labels. \n",
    "\n",
    "`data_dict = {'pavo':pavo_data, 'vega':vega_data, 'classic':classic_data}`\n",
    "\n",
    "The inputs to `plot_v2_fit()` are:\n",
    "- data_dict: the data dictionary of the original data\n",
    "- star: your `StellarParams()` object\n",
    "- line_spf: the range of spatial frequencies you want your model to span (i.e. `line_spf = np.linspace(0.00001, 2.5e8, 1000)`, must not start with 0 otherwise it will return an error\n",
    "- set_axis: sets your axis ranges (i.e. `set_axis = [xmin, xmax, ymin, ymax]`)\n",
    "- ldc_band: options are 'ldc_R', 'ldc_H', ldc_K', or 'ldc_J'. If plotting the uniform disk diameter fit, do not set\n",
    "- datasets_to_plot: the datasets you would like plotted (i.e. datasets_to_plot = `['pavo', 'vega', 'classic']`)\n",
    "- plot_udmodel: if set to True, will plot the uniform disk diameter fit\n",
    "- plot_ldmodel: if set to True, will plot the limb-darkened disk diameter fit with the LDC in the band indicated above\n",
    "- to_bin: if you would like any of your data binned, tell it which data set (i.e. `to_bin = ['pavo']`)\n",
    "- eq_text: if set to True, will annotate your plot with the angular diameter (either uniform or limb-darkened)\n",
    "- savefig: if you would like to save your figure, give it the name of the file you would like to call it (i.e. `eq_text = 'V2Plot.jpg'`)\n",
    "- showfig: default is True but just ensures the figure will show to your screen\n"
   ]
  },
  {
   "cell_type": "code",
   "execution_count": 16,
   "id": "99b36695-e03d-48f3-80a5-e82859bff4c1",
   "metadata": {},
   "outputs": [
    {
     "ename": "SyntaxError",
     "evalue": "positional argument follows keyword argument (plotting.py, line 196)",
     "output_type": "error",
     "traceback": [
      "Traceback \u001b[1;36m(most recent call last)\u001b[0m:\n",
      "\u001b[0m  File \u001b[0;32m~\\anaconda3\\lib\\site-packages\\IPython\\core\\interactiveshell.py:3577\u001b[0m in \u001b[0;35mrun_code\u001b[0m\n    exec(code_obj, self.user_global_ns, self.user_ns)\u001b[0m\n",
      "\u001b[1;36m  Cell \u001b[1;32mIn[16], line 1\u001b[1;36m\n\u001b[1;33m    from radpy.plotting import plot_v2_fit\u001b[1;36m\n",
      "\u001b[1;36m  File \u001b[1;32m~\\anaconda3\\lib\\site-packages\\radpy\\plotting.py:196\u001b[1;36m\u001b[0m\n\u001b[1;33m    a0.text(0.1,0.1, eq1, transform = a0.transAxes, {'color': 'k', 'fontsize': 15})\u001b[0m\n\u001b[1;37m                                                                                  ^\u001b[0m\n\u001b[1;31mSyntaxError\u001b[0m\u001b[1;31m:\u001b[0m positional argument follows keyword argument\n"
     ]
    }
   ],
   "source": [
    "from radpy.plotting import plot_v2_fit"
   ]
  },
  {
   "cell_type": "code",
   "execution_count": 21,
   "id": "9dac8ebf-100a-47cf-93f4-89a792f4d504",
   "metadata": {},
   "outputs": [],
   "source": [
    "import matplotlib.pyplot as plt\n",
    "def plot_v2_fit(data_dict, star, line_spf, set_axis, ldc_band=None, eq_text=False,\n",
    "                datasets_to_plot=None, plot_ldmodel=False, plot_udmodel=False,\n",
    "                to_bin=None, savefig=None, show=True):\n",
    "    ###########################################################################\n",
    "    # Function: plot_v2_fit                                                   #\n",
    "    # Inputs: data_dict -> dict of InterferometryData objects,                #\n",
    "    #                    e.g. {'pavo': pavo_obj, ...}                         #\n",
    "    #         star-> star object with .theta and .ldc* attributes             #\n",
    "    #                (ldcR, ldcK, etc.), and .V2(line_spf, theta, ldc)        #\n",
    "    #         line_spf -> x values for model curve                            #\n",
    "    #         set_axis -> set the axis limits e.g. [xmin, xmax, ymin, ymax]   #\n",
    "    #         ldc_band -> string (e.g. \"ldcR\", \"ldcK\") for which LDC          #\n",
    "    #                     coefficient to use                                  #\n",
    "    #         eq_text -> optional string for annotation                       #\n",
    "    #         datasets_to_plot-> list of keys in data_dict to plot            #\n",
    "    #                            (default: all)                               #\n",
    "    #         plot_ldmodel-> bool, whether to plot the ld model curve         #\n",
    "    #         plot_udmodel -> bool, whether to plot the ud model curve        #\n",
    "    #         to_bin -> list of kets in data_dict to bin                      #\n",
    "    #         interact -> sets matplotlib ipympl, default is False            #\n",
    "    #         savefig-> filename to save, if desired                          #\n",
    "    #         show-> whether to plt.show()                                    #\n",
    "    # Outputs: the plot                                                       #\n",
    "    # What it does:                                                           #\n",
    "    #        1. Initializes plotting parameters                               #\n",
    "    #        2. Checks to see what datasets the user wants plotted            #\n",
    "    #        3. Defines dictionaries for each instrument and the marker,      #\n",
    "    #           color, label, and alpha value for each one                    #\n",
    "    #        Starts with the top plot                                         #\n",
    "    #        4. for each data set, sets the keys for the color, marker, label #\n",
    "    #           and alpha value                                               #\n",
    "    #        5. Checks to see if the to_bin has been set                      #\n",
    "    #        6. if to_bin has been set, plots the unbinned data for each      #\n",
    "    #           data set, and then bins the data sets indicated then plots    #\n",
    "    #           those                                                         #\n",
    "    #        7. If to_bin has not been set, it plots the unbinned data        #\n",
    "    #        8. For the model, if plot_ldmodel is set, pulls the ldtheta,     #\n",
    "    #           error on the theta, and the ldcs and calculates the fits for  #\n",
    "    #           the relevant filter                                           #\n",
    "    #        9. Plots the model for the filter indicated                      #\n",
    "    #       10. If eq_text is set, annotates the plot with the theta val      #\n",
    "    #       11. If plot_udmodel is set, pulls the udtheta and error, and      #\n",
    "    #           calculates the UD model and plots it                          #\n",
    "    #       12. If eq_text is set, annotates the plot the theta val           #\n",
    "    #       Bottom plot:                                                      #\n",
    "    #       13. For each data set, it pulls the respective keys for the       #\n",
    "    #           color, label, alpha, and marker for each instrument           #\n",
    "    #       14. For each data set, checks to see if the to_bin value has been #\n",
    "    #           set.                                                          #\n",
    "    #       15. If plot_ldmodel has been set, it calculates the residuals for #\n",
    "    #           the data and the model for the filter indicated.              #\n",
    "    #       16. If to_bin has been set, it calculates the residuals for the   #\n",
    "    #           binned data as well.                                          #\n",
    "    #       17. If plot_udmodel has been set, it calculates the residuals for #\n",
    "    #           the data and the ud model.                                    #\n",
    "    #       18. If to_bin has been set, it calcualtes the residuals for the   #\n",
    "    #           binned data as well.                                          #\n",
    "    #       19. Plots the residuals for the unbinned (and binned if set)      #\n",
    "    #       20. Saves fig if save_fig has been set                            #\n",
    "    #       21. Shows fig if show has been set.                               #\n",
    "    ###########################################################################\n",
    "    plt.rcParams.update({'font.size': 18})\n",
    "    plt.rcParams['xtick.direction'] = 'in'\n",
    "    plt.rcParams['ytick.direction'] = 'in'\n",
    "    f, (a0, a1) = plt.subplots(2, 1, gridspec_kw={'height_ratios': [10, 3]}, sharex=True)\n",
    "\n",
    "    if datasets_to_plot is None:\n",
    "        datasets_to_plot = list(data_dict.keys())\n",
    "\n",
    "    color_map = {\n",
    "        'pavo': 'black',\n",
    "        'classic': 'green',\n",
    "        'vega': 'tab:blue',\n",
    "        'mircx': 'tab:orange'\n",
    "    }\n",
    "    marker_map = {\n",
    "        'pavo': '.',\n",
    "        'classic': 's',\n",
    "        'vega': '^',\n",
    "        'mircx': 'o'\n",
    "    }\n",
    "    label_map = {\n",
    "        'pavo': r'$\\rm PAVO$',\n",
    "        'classic': r'$\\rm Classic$',\n",
    "        'vega': r'$\\rm VEGA$',\n",
    "        'mircx': r'$\\rm MIRC-X$'\n",
    "    }\n",
    "    alpha_map = {\n",
    "        'pavo': 0.15,\n",
    "        'classic': 0.5,\n",
    "        'vega': 0.5,\n",
    "        'mircx': 0.5\n",
    "    }\n",
    "\n",
    "    # --- Top: V2 ---\n",
    "    for key in datasets_to_plot:\n",
    "        data = data_dict[key]\n",
    "        color = color_map.get(key, None)\n",
    "        marker = marker_map.get(key, '.')\n",
    "        label = label_map.get(key, key.capitalize())\n",
    "        alpha = alpha_map.get(key, 0.5)\n",
    "        spf = np.array(data.B) / np.array(data.Wave)\n",
    "\n",
    "        is_binned = to_bin and key in to_bin\n",
    "        # Always plot both, but only one gets the label\n",
    "        if is_binned:\n",
    "            # Plot unbinned points, no label\n",
    "            a0.plot(spf, data.V2, linestyle='None', marker=marker, markersize=3, color=color, alpha=alpha)\n",
    "            a0.errorbar(spf, data.V2, yerr=data.dV2, fmt=marker, linestyle='None', linewidth=0.5, color=color,\n",
    "                        capsize=3, alpha=alpha)\n",
    "            # Plot binned points, with label\n",
    "            binned_spf, binned_v2, binned_dv2 = bin_data(spf, data.V2, data.dV2)\n",
    "            a0.plot(binned_spf, binned_v2, linestyle='None', marker=marker, markersize=3, color=color, label=label)\n",
    "            a0.errorbar(binned_spf, binned_v2, yerr=binned_dv2, fmt=marker, linestyle='None', markersize=3, color=color,\n",
    "                        capsize=3)\n",
    "        else:\n",
    "            # Plot unbinned points, with label\n",
    "            a0.plot(spf, data.V2, linestyle='None', marker=marker, markersize=3, color=color, alpha=alpha, label=label)\n",
    "            a0.errorbar(spf, data.V2, yerr=data.dV2, fmt=marker, linestyle='None', linewidth=0.5, color=color,\n",
    "                        capsize=3, alpha=alpha)\n",
    "    # --- Model ---\n",
    "    if plot_ldmodel:\n",
    "        ldc_value = getattr(star, ldc_band, None)\n",
    "        theta = getattr(star, \"ldtheta\", None)\n",
    "        dtheta = getattr(star, \"ldtheta_err\", None)\n",
    "        if ldc_value is not None and theta is not None:\n",
    "            model_label = fr\"$ \\rm Model ({ldc_band.replace('ldc_', '').upper()})$\"\n",
    "            a0.plot(line_spf, V2(line_spf, theta, ldc_value), '--', color='blue', label=model_label)\n",
    "            if eq_text:\n",
    "                eq1 = fr\"$\\theta_{{\\rm LD}} = {round(theta, 3)} \\pm {round(dtheta, 3)} \\rm ~[mas]$\"\n",
    "                a0.text(0.1,0.1, eq1, transform = a0.transAxes, color = 'black', fontsize = 15)\n",
    "        else:\n",
    "            print(f\"Warning: {ldc_band} or ldtheta not present for star, skipping model plot.\")\n",
    "\n",
    "    if plot_udmodel:\n",
    "        theta = getattr(star, \"udtheta\", None)\n",
    "        dtheta = getattr(star, \"udtheta_err\", None)\n",
    "        if theta is not None:\n",
    "            model_label = fr\"$\\rm Uniform~Disk~Model$\"\n",
    "            a0.plot(line_spf, UDV2(line_spf, theta), '--', color='blue', label=model_label)\n",
    "            if eq_text:\n",
    "                eq1 = fr\"$\\theta_{{\\rm UD}} = {round(theta, 3)} \\pm {round(dtheta, 3)} \\rm ~[mas]$\"\n",
    "                a0.text(0.1,0.1, eq1, transform = a0.transAxes, color = 'black', fontsize = 15)\n",
    "        else:\n",
    "            print(f\"Warning: udtheta not present for star, skipping model plot.\")\n",
    "\n",
    "    a0.legend(fontsize=12)\n",
    "    a0.set_ylabel(r'$V^2$', labelpad=17)\n",
    "    a0.tick_params(axis='x', labelbottom=False)\n",
    "    a0.axis(set_axis)\n",
    "\n",
    "    a0.xaxis.set_minor_locator(AutoMinorLocator())\n",
    "    a0.yaxis.set_minor_locator(AutoMinorLocator())\n",
    "\n",
    "    # --- Bottom panel: Residuals ---\n",
    "    for key in datasets_to_plot:\n",
    "        data = data_dict[key]\n",
    "        color = color_map.get(key, None)\n",
    "        marker = marker_map.get(key, '.')\n",
    "        alpha = alpha_map.get(key, 0.5)\n",
    "        spf = np.array(data.B) / np.array(data.Wave)\n",
    "\n",
    "        is_binned = to_bin and key in to_bin  # e.g. to_bin = ['pavo']\n",
    "\n",
    "        # --- Model and Residuals for Unbinned ---\n",
    "        if plot_ldmodel and ldc_value is not None and theta is not None:\n",
    "            model_v2 = V2(spf, theta, ldc_value)\n",
    "            residuals = np.array(data.V2) - model_v2\n",
    "            a1.plot(spf, residuals, linestyle='None', marker=marker, markersize=3, color=color, alpha=alpha)\n",
    "            a1.errorbar(spf, residuals, yerr=data.dV2, fmt=marker, linestyle='None', linewidth=0.5, color=color,\n",
    "                        capsize=3, alpha=alpha)\n",
    "\n",
    "            # --- Model and Residuals for Binned ---\n",
    "            if is_binned:\n",
    "                model_binv2 = V2(binned_spf, theta, ldc_value)\n",
    "                binned_res = binned_v2 - model_binv2\n",
    "                a1.plot(binned_spf, binned_res, linestyle='None', marker=marker, markersize=5, color=color)\n",
    "                a1.errorbar(binned_spf, binned_res, yerr=binned_dv2, fmt=marker, linestyle='None', markersize=5,\n",
    "                            color=color, capsize=3)\n",
    "\n",
    "        # --- (Repeat similar for UD model if desired) ---\n",
    "        if plot_udmodel and theta is not None:\n",
    "            model_udv2 = UDV2(spf, theta)\n",
    "            ud_res = np.array(data.V2) - model_udv2\n",
    "            a1.plot(spf, ud_res, linestyle='None', marker=marker, markersize=3, color=color, alpha=alpha)\n",
    "            a1.errorbar(spf, ud_res, yerr=data.dV2, fmt=marker, linestyle='None', linewidth=0.5, color=color, capsize=3,\n",
    "                        alpha=alpha)\n",
    "\n",
    "            if is_binned:\n",
    "                model_binudv2 = UDV2(binned_spf, theta)\n",
    "                binned_udres = binned_v2 - model_binudv2\n",
    "                a1.plot(binned_spf, binned_udres, linestyle='None', marker=marker, markersize=5, color=color)\n",
    "                a1.errorbar(binned_spf, binned_udres, yerr=binned_dv2, fmt=marker, linestyle='None', markersize=5,\n",
    "                            color=color, capsize=3)\n",
    "\n",
    "    a1.axhline(y=0, color='black', linewidth=0.8)\n",
    "    a1.set_ylabel(r'$\\rm Residual$', labelpad=3)\n",
    "    plt.yticks([-.25, 0, 0.25])\n",
    "    a1.set_ylim([-0.35, 0.35])\n",
    "    a1.xaxis.set_minor_locator(AutoMinorLocator())\n",
    "    a1.yaxis.set_minor_locator(AutoMinorLocator())\n",
    "\n",
    "    plt.subplots_adjust(wspace=0, hspace=0)\n",
    "    plt.xlabel(r'$\\rm Spatial$ $\\rm frequency$ [$\\rm rad^{-1}$]')\n",
    "\n",
    "    if savefig:\n",
    "        f.savefig(savefig, bbox_inches='tight')\n",
    "    if show:\n",
    "        plt.show()\n",
    "    return f, (a0, a1)"
   ]
  },
  {
   "cell_type": "code",
   "execution_count": 22,
   "id": "f998c118-e620-4d30-a92a-76918d2fd1e8",
   "metadata": {},
   "outputs": [],
   "source": [
    "#data_dict = {'pavo':pavo_data, 'vega':vega_data, 'classic':classic_data}\n",
    "data_dict = {'pavo':pavo_data}"
   ]
  },
  {
   "cell_type": "markdown",
   "id": "b572b782-f2ca-4e43-b869-e31ff5c50aab",
   "metadata": {},
   "source": [
    "### Here are some examples of the types of plots that can be made:"
   ]
  },
  {
   "cell_type": "markdown",
   "id": "b6d416c7-4b5e-4f0d-adf7-28f2c45b9200",
   "metadata": {},
   "source": [
    "Example 1: Uniform disk fit with the PAVO, VEGA, and Classic data being plotted, the PAVO data are being binned, and I want the diameter to be annotated to the plot"
   ]
  },
  {
   "cell_type": "code",
   "execution_count": 23,
   "id": "478e53e6-244e-4007-a155-b05be159d6ce",
   "metadata": {},
   "outputs": [
    {
     "ename": "NameError",
     "evalue": "name 'UDV2' is not defined",
     "output_type": "error",
     "traceback": [
      "\u001b[1;31m---------------------------------------------------------------------------\u001b[0m",
      "\u001b[1;31mNameError\u001b[0m                                 Traceback (most recent call last)",
      "Cell \u001b[1;32mIn[23], line 1\u001b[0m\n\u001b[1;32m----> 1\u001b[0m \u001b[43mplot_v2_fit\u001b[49m\u001b[43m(\u001b[49m\n\u001b[0;32m      2\u001b[0m \u001b[43m    \u001b[49m\u001b[43mdata_dict\u001b[49m\u001b[38;5;241;43m=\u001b[39;49m\u001b[43mdata_dict\u001b[49m\u001b[43m,\u001b[49m\n\u001b[0;32m      3\u001b[0m \u001b[43m    \u001b[49m\u001b[43mstar\u001b[49m\u001b[38;5;241;43m=\u001b[39;49m\u001b[43mstar\u001b[49m\u001b[43m,\u001b[49m\u001b[43m       \u001b[49m\n\u001b[0;32m      4\u001b[0m \u001b[43m    \u001b[49m\u001b[43mline_spf\u001b[49m\u001b[38;5;241;43m=\u001b[39;49m\u001b[43mnp\u001b[49m\u001b[38;5;241;43m.\u001b[39;49m\u001b[43mlinspace\u001b[49m\u001b[43m(\u001b[49m\u001b[38;5;241;43m1e8\u001b[39;49m\u001b[43m,\u001b[49m\u001b[43m \u001b[49m\u001b[38;5;241;43m2.5e8\u001b[39;49m\u001b[43m,\u001b[49m\u001b[43m \u001b[49m\u001b[38;5;241;43m1000\u001b[39;49m\u001b[43m)\u001b[49m\u001b[43m,\u001b[49m\n\u001b[0;32m      5\u001b[0m \u001b[43m    \u001b[49m\u001b[43mset_axis\u001b[49m\u001b[43m \u001b[49m\u001b[38;5;241;43m=\u001b[39;49m\u001b[43m \u001b[49m\u001b[43m[\u001b[49m\u001b[38;5;241;43m1e8\u001b[39;49m\u001b[43m,\u001b[49m\u001b[43m \u001b[49m\u001b[38;5;241;43m2.5e8\u001b[39;49m\u001b[43m,\u001b[49m\u001b[43m \u001b[49m\u001b[38;5;241;43m-\u001b[39;49m\u001b[38;5;241;43m0.05\u001b[39;49m\u001b[43m,\u001b[49m\u001b[38;5;241;43m1.1\u001b[39;49m\u001b[43m]\u001b[49m\u001b[43m,\u001b[49m\u001b[43m   \u001b[49m\n\u001b[0;32m      6\u001b[0m \u001b[43m    \u001b[49m\u001b[43mdatasets_to_plot\u001b[49m\u001b[38;5;241;43m=\u001b[39;49m\u001b[43m[\u001b[49m\u001b[38;5;124;43m'\u001b[39;49m\u001b[38;5;124;43mpavo\u001b[39;49m\u001b[38;5;124;43m'\u001b[39;49m\u001b[43m]\u001b[49m\u001b[43m,\u001b[49m\n\u001b[0;32m      7\u001b[0m \u001b[43m    \u001b[49m\u001b[43mplot_udmodel\u001b[49m\u001b[43m \u001b[49m\u001b[38;5;241;43m=\u001b[39;49m\u001b[43m \u001b[49m\u001b[38;5;28;43;01mTrue\u001b[39;49;00m\u001b[43m,\u001b[49m\n\u001b[0;32m      8\u001b[0m \u001b[43m    \u001b[49m\u001b[43meq_text\u001b[49m\u001b[38;5;241;43m=\u001b[39;49m\u001b[38;5;28;43;01mTrue\u001b[39;49;00m\u001b[43m,\u001b[49m\n\u001b[0;32m      9\u001b[0m \u001b[43m    \u001b[49m\u001b[43mshow\u001b[49m\u001b[43m \u001b[49m\u001b[38;5;241;43m=\u001b[39;49m\u001b[43m \u001b[49m\u001b[38;5;28;43;01mTrue\u001b[39;49;00m\n\u001b[0;32m     10\u001b[0m \u001b[43m)\u001b[49m\n",
      "Cell \u001b[1;32mIn[21], line 141\u001b[0m, in \u001b[0;36mplot_v2_fit\u001b[1;34m(data_dict, star, line_spf, set_axis, ldc_band, eq_text, datasets_to_plot, plot_ldmodel, plot_udmodel, to_bin, savefig, show)\u001b[0m\n\u001b[0;32m    139\u001b[0m \u001b[38;5;28;01mif\u001b[39;00m theta \u001b[38;5;129;01mis\u001b[39;00m \u001b[38;5;129;01mnot\u001b[39;00m \u001b[38;5;28;01mNone\u001b[39;00m:\n\u001b[0;32m    140\u001b[0m     model_label \u001b[38;5;241m=\u001b[39m \u001b[38;5;124mfr\u001b[39m\u001b[38;5;124m\"\u001b[39m\u001b[38;5;124m$\u001b[39m\u001b[38;5;124m\\\u001b[39m\u001b[38;5;124mrm Uniform~Disk~Model$\u001b[39m\u001b[38;5;124m\"\u001b[39m\n\u001b[1;32m--> 141\u001b[0m     a0\u001b[38;5;241m.\u001b[39mplot(line_spf, \u001b[43mUDV2\u001b[49m(line_spf, theta), \u001b[38;5;124m'\u001b[39m\u001b[38;5;124m--\u001b[39m\u001b[38;5;124m'\u001b[39m, color\u001b[38;5;241m=\u001b[39m\u001b[38;5;124m'\u001b[39m\u001b[38;5;124mblue\u001b[39m\u001b[38;5;124m'\u001b[39m, label\u001b[38;5;241m=\u001b[39mmodel_label)\n\u001b[0;32m    142\u001b[0m     \u001b[38;5;28;01mif\u001b[39;00m eq_text:\n\u001b[0;32m    143\u001b[0m         eq1 \u001b[38;5;241m=\u001b[39m \u001b[38;5;124mfr\u001b[39m\u001b[38;5;124m\"\u001b[39m\u001b[38;5;124m$\u001b[39m\u001b[38;5;124m\\\u001b[39m\u001b[38;5;124mtheta_\u001b[39m\u001b[38;5;130;01m{{\u001b[39;00m\u001b[38;5;124m\\\u001b[39m\u001b[38;5;124mrm UD\u001b[39m\u001b[38;5;130;01m}}\u001b[39;00m\u001b[38;5;124m = \u001b[39m\u001b[38;5;132;01m{\u001b[39;00m\u001b[38;5;28mround\u001b[39m(theta,\u001b[38;5;250m \u001b[39m\u001b[38;5;241m3\u001b[39m)\u001b[38;5;132;01m}\u001b[39;00m\u001b[38;5;124m \u001b[39m\u001b[38;5;124m\\\u001b[39m\u001b[38;5;124mpm \u001b[39m\u001b[38;5;132;01m{\u001b[39;00m\u001b[38;5;28mround\u001b[39m(dtheta,\u001b[38;5;250m \u001b[39m\u001b[38;5;241m3\u001b[39m)\u001b[38;5;132;01m}\u001b[39;00m\u001b[38;5;124m \u001b[39m\u001b[38;5;124m\\\u001b[39m\u001b[38;5;124mrm ~[mas]$\u001b[39m\u001b[38;5;124m\"\u001b[39m\n",
      "\u001b[1;31mNameError\u001b[0m: name 'UDV2' is not defined"
     ]
    },
    {
     "data": {
      "image/png": "[encoded data removed]",
      "text/plain": [
       "<Figure size 640x480 with 2 Axes>"
      ]
     },
     "metadata": {},
     "output_type": "display_data"
    }
   ],
   "source": [
    "plot_v2_fit(\n",
    "    data_dict=data_dict,\n",
    "    star=star,       \n",
    "    line_spf=np.linspace(1e8, 2.5e8, 1000),\n",
    "    set_axis = [1e8, 2.5e8, -0.05,1.1],   \n",
    "    datasets_to_plot=['pavo'],\n",
    "    plot_udmodel = True,\n",
    "    eq_text=True,\n",
    "    show = True\n",
    ")"
   ]
  },
  {
   "cell_type": "markdown",
   "id": "9373a320-1ad7-41c1-872e-78565f55b2bd",
   "metadata": {},
   "source": [
    "Example 2: Limb-darkened disk fit\n",
    "Here I want to plot the limb-darkened disk fit in the 'R' band. I want all three data sets, and I want the PAVO data binned. I also want to annotate the diameter to the plot."
   ]
  },
  {
   "cell_type": "code",
   "execution_count": null,
   "id": "462eaa24-cc37-45da-a20e-cb6f21e95294",
   "metadata": {},
   "outputs": [],
   "source": [
    "plot_v2_fit(\n",
    "    data_dict=data_dict,\n",
    "    star=star,       \n",
    "    line_spf=np.linspace(0.00001, 2.5e8, 1000),\n",
    "    set_axis = [0, 2.5e8, -0.05,1.1],\n",
    "    ldc_band='ldc_R',      \n",
    "    datasets_to_plot=['pavo', 'vega', 'classic'],\n",
    "    plot_ldmodel = True,\n",
    "    to_bin = ['pavo'],\n",
    "    eq_text=True,\n",
    "    show = True\n",
    ")"
   ]
  },
  {
   "cell_type": "markdown",
   "id": "814ea2df-0f9d-4373-8b26-ca180a28bd77",
   "metadata": {},
   "source": [
    "Example 3:\n",
    "\n",
    "Here I want to plot the limb-darkened disk fit for the K band and I don't want to annotate the diameter to the plot. I also don't want any data binned."
   ]
  },
  {
   "cell_type": "code",
   "execution_count": null,
   "id": "1ab05003-dbbb-42e3-b35a-1b765f2ecf53",
   "metadata": {},
   "outputs": [],
   "source": [
    "plot_v2_fit(\n",
    "    data_dict=data_dict,\n",
    "    star=star,         \n",
    "    line_spf=np.linspace(0.00001, 2.5e8, 1000),\n",
    "    set_axis = [0, 2.5e8, -0.05,1.1],\n",
    "    ldc_band='ldc_K',     \n",
    "    datasets_to_plot=['pavo', 'vega', 'classic'],\n",
    "    plot_ldmodel = True,\n",
    "    eq_text=True,\n",
    "    show = True\n",
    ")"
   ]
  },
  {
   "cell_type": "markdown",
   "id": "b8adc93b-bef0-4aec-8f6b-9614e4c750ae",
   "metadata": {},
   "source": [
    "Here is the full import statement block for all the things needed for this script:"
   ]
  },
  {
   "cell_type": "code",
   "execution_count": null,
   "id": "4b38f6fb-b464-4fe5-b4dc-cfb58fb04687",
   "metadata": {},
   "outputs": [],
   "source": [
    "from radpy.stellar import *\n",
    "from radpy.datareadandformat import *\n",
    "from radpy.plotting import plot_v2_fit\n",
    "from radpy.LDfitting import initial_LDfit, run_LDfit\n",
    "from radpy.UDfitting import initial_UDfit, run_udmcbs_fit, udfit_values"
   ]
  },
  {
   "cell_type": "code",
   "execution_count": null,
   "id": "f6347a39-1849-4b49-84e3-4eda6e6194ee",
   "metadata": {},
   "outputs": [],
   "source": []
  }
 ],
 "metadata": {
  "kernelspec": {
   "display_name": "Python 3 (ipykernel)",
   "language": "python",
   "name": "python3"
  },
  "language_info": {
   "codemirror_mode": {
    "name": "ipython",
    "version": 3
   },
   "file_extension": ".py",
   "mimetype": "text/x-python",
   "name": "python",
   "nbconvert_exporter": "python",
   "pygments_lexer": "ipython3",
   "version": "3.10.14"
  }
 },
 "nbformat": 4,
 "nbformat_minor": 5
}
