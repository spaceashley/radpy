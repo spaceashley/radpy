{
 "cells": [
  {
   "cell_type": "code",
   "execution_count": 1,
   "id": "4b38f6fb-b464-4fe5-b4dc-cfb58fb04687",
   "metadata": {},
   "outputs": [],
   "source": [
    "from radpy.stellar import *\n",
    "from radpy.datareadandformat import *\n",
    "from radpy.plotting import plot_v2_fit\n",
    "from radpy.LDfitting import initial_LDfit, run_LDfit\n",
    "from radpy.config import vegapath, classicpath, pavopath\n",
    "from radpy.UDfitting import initial_UDfit, run_udmcbs_fit, udfit_values"
   ]
  },
  {
   "cell_type": "code",
   "execution_count": 2,
   "id": "c023e544-9dd2-41a9-a6ea-f0e412655328",
   "metadata": {},
   "outputs": [],
   "source": [
    "filenamec = \"C:\\\\Users\\\\oxfor\\\\Research\\\\rsadpy\\\\radpy\\\\data\\\\ClassicData.csv\"\n",
    "filenamep = \"C:\\\\Users\\\\oxfor\\\\Research\\\\rsadpy\\\\radpy\\\\data\\\\PAVOdata.csv\"\n",
    "filenamev = \"C:\\\\Users\\\\oxfor\\\\Research\\\\rsadpy\\\\radpy\\\\data\\\\Vegadata.csv\""
   ]
  },
  {
   "cell_type": "code",
   "execution_count": 3,
   "id": "521ab632-0e7f-455b-b8cb-d57181046a38",
   "metadata": {},
   "outputs": [
    {
     "name": "stdout",
     "output_type": "stream",
     "text": [
      "Number of brackets: 20\n",
      "Number of brackets: 1\n",
      "Number of brackets: 17\n"
     ]
    }
   ],
   "source": [
    "datav, num_brack_v = filename_extension(filenamev, 'V')\n",
    "datac, num_brack_c = filename_extension(filenamec, 'C')\n",
    "datap, num_brack_p = filename_extension(filenamep, 'P')"
   ]
  },
  {
   "cell_type": "code",
   "execution_count": 4,
   "id": "dd98a65c-5931-4fbe-8ab1-9b2acbb1533d",
   "metadata": {},
   "outputs": [],
   "source": [
    "pavo_data = PavoData(datap)\n",
    "vega_data = VegaData(datav)\n",
    "classic_data = ClassicData(datac)"
   ]
  },
  {
   "cell_type": "code",
   "execution_count": 5,
   "id": "69b0ba0e-55c1-4491-a8da-7246628c9047",
   "metadata": {},
   "outputs": [],
   "source": [
    "b, v2, dv2, wave, band, brack, inst = combined(pavo_data.make_df(), classic_data.make_df(), vega_data.make_df())\n",
    "spf = b/wave"
   ]
  },
  {
   "cell_type": "code",
   "execution_count": 6,
   "id": "1108c2a2-cc59-4554-95bd-7b56fdc4b2b7",
   "metadata": {},
   "outputs": [
    {
     "name": "stdout",
     "output_type": "stream",
     "text": [
      "Found Gaia DR3: Gaia DR3 2009481748875806976\n",
      "Source ID 2009481748875806976\n",
      "Corrected parallax: 152.84\n",
      "Distance: 6.54286 +/- 0.00212 [pc]\n"
     ]
    },
    {
     "name": "stderr",
     "output_type": "stream",
     "text": [
      "C:\\Users\\oxfor\\anaconda3\\lib\\site-packages\\zero_point\\zpt.py:205: UserWarning: The apparent magnitude of one or more of the sources is outside the expected range (6-21 mag). \n",
      "                Outside this range, there is no further interpolation, thus the values at 6 or 21 are returned.\n",
      "  warnings.warn(\n"
     ]
    }
   ],
   "source": [
    "#Stellar parameters\n",
    "p = 152.864\n",
    "dp = 0.0494\n",
    "f = 21.751\n",
    "df = 0.585\n",
    "logg = 4.5\n",
    "dlogg = 0.1\n",
    "m = 0.09\n",
    "dm = 0.08\n",
    "#distances(\"HD 219134\", verbose = True)\n",
    "D, dD = distances('HD 219134', verbose = True)"
   ]
  },
  {
   "cell_type": "code",
   "execution_count": 7,
   "id": "73166546-e55a-4029-b1a6-b921942ed35e",
   "metadata": {},
   "outputs": [],
   "source": [
    "star = StellarParams()\n",
    "star.fbol = f\n",
    "star.fbol_err = df\n",
    "star.logg = logg\n",
    "star.logg_err = dlogg\n",
    "star.feh = m\n",
    "star.feh_err = dm\n",
    "star.dist = D\n",
    "star.dist_err = dD\n",
    "star.plx = p\n",
    "star.plx_err = dp"
   ]
  },
  {
   "cell_type": "code",
   "execution_count": 8,
   "id": "cbebdcf9-d702-4265-b116-152229c364bb",
   "metadata": {},
   "outputs": [
    {
     "name": "stdout",
     "output_type": "stream",
     "text": [
      "Stellar parameters:\n",
      "fbol = 21.751 [10⁻⁸ erg/s/cm²]\n",
      "fbol_err = 0.585 [10⁻⁸ erg/s/cm²]\n",
      "logg = 4.5 [dex]\n",
      "logg_err = 0.1 [dex]\n",
      "feh = 0.09 [dex]\n",
      "feh_err = 0.08 [dex]\n",
      "plx = 152.864 [mas]\n",
      "plx_err = 0.0494 [mas]\n",
      "dist = 6.54286 [pc]\n",
      "dist_err = 0.00212 [pc]\n",
      "udthetai = None [mas]\n",
      "udthetai_err = None [mas]\n",
      "ldthetai = None [mas]\n",
      "ldthetai_err = None [mas]\n",
      "udtheta = None [mas]\n",
      "udtheta_err = None [mas]\n",
      "ldtheta = None [mas]\n",
      "ldtheta_err = None [mas]\n",
      "teff = None [K]\n",
      "teff_err = None [K]\n",
      "lum = None [L☉]\n",
      "lum_err = None [L☉]\n",
      "rad = None [R☉]\n",
      "rad_err = None [R☉]\n",
      "ldc_R = None [ ]\n",
      "ldc_K = None [ ]\n",
      "ldc_H = None [ ]\n",
      "ldc_J = None [ ]\n"
     ]
    }
   ],
   "source": [
    "print(\"Stellar parameters:\")\n",
    "print(star)"
   ]
  },
  {
   "cell_type": "code",
   "execution_count": 9,
   "id": "f51139ef-68a0-4ae5-9d86-5217d77b1806",
   "metadata": {},
   "outputs": [],
   "source": [
    "theta1, dtheta1, chisqr1 = initial_UDfit(spf, v2, dv2, 0.4, star, verbose = False)\n",
    "#initial_UDfit(spf, v2, dv2, 0.4, star, verbose = False)\n"
   ]
  },
  {
   "cell_type": "code",
   "execution_count": 10,
   "id": "bf530b2a-2617-4b30-8cc7-6a0bf905f6d6",
   "metadata": {},
   "outputs": [
    {
     "name": "stdout",
     "output_type": "stream",
     "text": [
      "Effective temperature: 4963.232392396183 +/- 33.51205790769525 K\n",
      "LDC for filter  R : 0.6672020537173402\n",
      "Initial fit with lmfit:\n",
      "[[Model]]\n",
      "    Model(V2)\n",
      "[[Fit Statistics]]\n",
      "    # fitting method   = leastsq\n",
      "    # function evals   = 9\n",
      "    # data points      = 461\n",
      "    # variables        = 1\n",
      "    chi-square         = 578.043019\n",
      "    reduced chi-square = 1.25661526\n",
      "    Akaike info crit   = 106.301366\n",
      "    Bayesian info crit = 110.434764\n",
      "    R-squared          = -59.6853470\n",
      "[[Variables]]\n",
      "    theta:  1.11365607 +/- 0.00140433 (0.13%) (init = 1.03756)\n"
     ]
    }
   ],
   "source": [
    "theta2, dtheta2, chisqr2 = initial_LDfit(spf, v2, dv2, star, 'R', verbose = True)\n",
    "#initial_LDfit(spf, v2, dv2, star, 'R', verbose = True)"
   ]
  },
  {
   "cell_type": "code",
   "execution_count": 11,
   "id": "b39a31ba-9bde-4637-9851-fc4c1d154d4e",
   "metadata": {},
   "outputs": [
    {
     "name": "stdout",
     "output_type": "stream",
     "text": [
      "Initial fitting results:\n",
      "fbol = 21.751 [10⁻⁸ erg/s/cm²]\n",
      "fbol_err = 0.585 [10⁻⁸ erg/s/cm²]\n",
      "logg = 4.5 [dex]\n",
      "logg_err = 0.1 [dex]\n",
      "feh = 0.09 [dex]\n",
      "feh_err = 0.08 [dex]\n",
      "plx = 152.864 [mas]\n",
      "plx_err = 0.0494 [mas]\n",
      "dist = 6.54286 [pc]\n",
      "dist_err = 0.00212 [pc]\n",
      "udthetai = 1.03756 [mas]\n",
      "udthetai_err = 0.00128 [mas]\n",
      "ldthetai = 1.11366 [mas]\n",
      "ldthetai_err = 0.0014 [mas]\n",
      "udtheta = None [mas]\n",
      "udtheta_err = None [mas]\n",
      "ldtheta = None [mas]\n",
      "ldtheta_err = None [mas]\n",
      "teff = 4963.23239 [K]\n",
      "teff_err = 33.51206 [K]\n",
      "lum = None [L☉]\n",
      "lum_err = None [L☉]\n",
      "rad = None [R☉]\n",
      "rad_err = None [R☉]\n",
      "ldc_R = None [ ]\n",
      "ldc_K = None [ ]\n",
      "ldc_H = None [ ]\n",
      "ldc_J = None [ ]\n"
     ]
    }
   ],
   "source": [
    "print(\"Initial fitting results:\")\n",
    "print(star)"
   ]
  },
  {
   "cell_type": "code",
   "execution_count": 12,
   "id": "12ed66ba-1450-43ef-8392-838f92506e68",
   "metadata": {},
   "outputs": [],
   "source": [
    "results = run_udmcbs_fit(10, 10, datasets = [pavo_data, vega_data, classic_data], stellar_params = star)"
   ]
  },
  {
   "cell_type": "code",
   "execution_count": 13,
   "id": "80684a2c-7d7e-4705-8dcb-7218fa373c43",
   "metadata": {},
   "outputs": [
    {
     "name": "stdout",
     "output_type": "stream",
     "text": [
      "Uniform Disk Diameter after MC/BS: 1.0394 +/- 0.00349 mas\n",
      "Chi-squared: 21.581282215653708\n",
      "Chi-squared reduced: 0.04691583090359502\n",
      "Temperature: 4958.8 +/- 34.4 K\n"
     ]
    }
   ],
   "source": [
    "udfit_values(spf, v2, dv2, results, stellar_params = star, verbose = True)"
   ]
  },
  {
   "cell_type": "code",
   "execution_count": 14,
   "id": "4c8331ad-7a24-4d00-8f67-304c67d8e448",
   "metadata": {},
   "outputs": [
    {
     "name": "stdout",
     "output_type": "stream",
     "text": [
      "Final fitting results:\n",
      "fbol = 21.751 [10⁻⁸ erg/s/cm²]\n",
      "fbol_err = 0.585 [10⁻⁸ erg/s/cm²]\n",
      "logg = 4.5 [dex]\n",
      "logg_err = 0.1 [dex]\n",
      "feh = 0.09 [dex]\n",
      "feh_err = 0.08 [dex]\n",
      "plx = 152.864 [mas]\n",
      "plx_err = 0.0494 [mas]\n",
      "dist = 6.54286 [pc]\n",
      "dist_err = 0.00212 [pc]\n",
      "udthetai = 1.03756 [mas]\n",
      "udthetai_err = 0.00128 [mas]\n",
      "ldthetai = 1.11366 [mas]\n",
      "ldthetai_err = 0.0014 [mas]\n",
      "udtheta = 1.03941 [mas]\n",
      "udtheta_err = 0.00349 [mas]\n",
      "ldtheta = None [mas]\n",
      "ldtheta_err = None [mas]\n",
      "teff = 4958.81396 [K]\n",
      "teff_err = 34.36474 [K]\n",
      "lum = None [L☉]\n",
      "lum_err = None [L☉]\n",
      "rad = None [R☉]\n",
      "rad_err = None [R☉]\n",
      "ldc_R = None [ ]\n",
      "ldc_K = None [ ]\n",
      "ldc_H = None [ ]\n",
      "ldc_J = None [ ]\n"
     ]
    }
   ],
   "source": [
    "print(\"Final fitting results:\")\n",
    "print(star)"
   ]
  },
  {
   "cell_type": "code",
   "execution_count": 15,
   "id": "b2b88f37-bc12-4cec-8e5f-013efe6907c6",
   "metadata": {},
   "outputs": [
    {
     "name": "stdout",
     "output_type": "stream",
     "text": [
      "Final Values after  8  iterations:\n",
      "Limb-darkened Disk Diameter after MC/BS: 1.1118 +/- 0.00487 mas\n",
      "Limb-darkening coefficient in R: 0.68402\n",
      "Chi-squared for R band: 588.614\n",
      "Reduced chi-squared for R band: 1.28\n",
      "Limb-darkening coefficient in K: 0.32208\n",
      "Chi-squared for K band: 1484.055\n",
      "Reduced chi-squared for K band: 3.226\n",
      "Temperature: 4794.6 +/- 33.9 K\n",
      "Percent difference: 0.01 %\n",
      "Percent difference: 0.01 %\n"
     ]
    }
   ],
   "source": [
    "thetaf, dthetaf, tf, dtf, ldcsf, chisf = run_LDfit(2, 2, ogdata = [spf, v2, dv2], datasets = [pavo_data, vega_data, classic_data], stellar_params = star, verbose = True)"
   ]
  },
  {
   "cell_type": "code",
   "execution_count": 16,
   "id": "9fc1a228-875c-4d7a-959f-0a985040cce6",
   "metadata": {},
   "outputs": [
    {
     "name": "stdout",
     "output_type": "stream",
     "text": [
      "Final fitting results:\n",
      "fbol = 21.751 [10⁻⁸ erg/s/cm²]\n",
      "fbol_err = 0.585 [10⁻⁸ erg/s/cm²]\n",
      "logg = 4.5 [dex]\n",
      "logg_err = 0.1 [dex]\n",
      "feh = 0.09 [dex]\n",
      "feh_err = 0.08 [dex]\n",
      "plx = 152.864 [mas]\n",
      "plx_err = 0.0494 [mas]\n",
      "dist = 6.54286 [pc]\n",
      "dist_err = 0.00212 [pc]\n",
      "udthetai = 1.03756 [mas]\n",
      "udthetai_err = 0.00128 [mas]\n",
      "ldthetai = 1.11366 [mas]\n",
      "ldthetai_err = 0.0014 [mas]\n",
      "udtheta = 1.03941 [mas]\n",
      "udtheta_err = 0.00349 [mas]\n",
      "ldtheta = 1.11181 [mas]\n",
      "ldtheta_err = 0.00487 [mas]\n",
      "teff = 4794.63149 [K]\n",
      "teff_err = 34.36474 [K]\n",
      "lum = None [L☉]\n",
      "lum_err = None [L☉]\n",
      "rad = None [R☉]\n",
      "rad_err = None [R☉]\n",
      "ldc_R = 0.68402 [ ]\n",
      "ldc_K = 0.32208 [ ]\n",
      "ldc_H = None [ ]\n",
      "ldc_J = None [ ]\n"
     ]
    }
   ],
   "source": [
    "print(\"Final fitting results:\")\n",
    "print(star)"
   ]
  },
  {
   "cell_type": "code",
   "execution_count": 17,
   "id": "be0d3ab2-551a-4174-a545-58291cf802f8",
   "metadata": {},
   "outputs": [
    {
     "name": "stdout",
     "output_type": "stream",
     "text": [
      "Linear Radius:  0.783 +/- 0.003 [R_solar]\n",
      "Luminosity:  0.291 +/- 0.008 [L_solar]\n",
      "Effective temperature:  4794.639 +/- 33.905 [K]\n"
     ]
    }
   ],
   "source": [
    "calc_star_params(star, verbose = True)"
   ]
  },
  {
   "cell_type": "code",
   "execution_count": 18,
   "id": "2bfe4386-0230-4c22-b850-244cdb7f37f6",
   "metadata": {},
   "outputs": [
    {
     "name": "stdout",
     "output_type": "stream",
     "text": [
      "Final stellar parameters:\n",
      "Linear Radius:  0.783 +/- 0.003 [R_solar]\n",
      "Luminosity:  0.291 +/- 0.008 [L_solar]\n",
      "Effective temperature:  4794.639 +/- 33.905 [K]\n",
      "fbol = 21.751 [10⁻⁸ erg/s/cm²]\n",
      "fbol_err = 0.585 [10⁻⁸ erg/s/cm²]\n",
      "logg = 4.5 [dex]\n",
      "logg_err = 0.1 [dex]\n",
      "feh = 0.09 [dex]\n",
      "feh_err = 0.08 [dex]\n",
      "plx = 152.864 [mas]\n",
      "plx_err = 0.0494 [mas]\n",
      "dist = 6.54286 [pc]\n",
      "dist_err = 0.00212 [pc]\n",
      "udthetai = 1.03756 [mas]\n",
      "udthetai_err = 0.00128 [mas]\n",
      "ldthetai = 1.11366 [mas]\n",
      "ldthetai_err = 0.0014 [mas]\n",
      "udtheta = 1.03941 [mas]\n",
      "udtheta_err = 0.00349 [mas]\n",
      "ldtheta = 1.11181 [mas]\n",
      "ldtheta_err = 0.00487 [mas]\n",
      "teff = 4794.63921 [K]\n",
      "teff_err = 33.90543 [K]\n",
      "lum = 0.29068 [L☉]\n",
      "lum_err = 0.00782 [L☉]\n",
      "rad = 0.78347 [R☉]\n",
      "rad_err = 0.00344 [R☉]\n",
      "ldc_R = 0.68402 [ ]\n",
      "ldc_K = 0.32208 [ ]\n",
      "ldc_H = None [ ]\n",
      "ldc_J = None [ ]\n"
     ]
    }
   ],
   "source": [
    "print(\"Final stellar parameters:\")\n",
    "calc_star_params(star, verbose = True)\n",
    "print(star)"
   ]
  },
  {
   "cell_type": "code",
   "execution_count": 19,
   "id": "f998c118-e620-4d30-a92a-76918d2fd1e8",
   "metadata": {},
   "outputs": [],
   "source": [
    "data_dict = {'pavo':pavo_data, 'vega':vega_data, 'classic':classic_data}"
   ]
  },
  {
   "cell_type": "code",
   "execution_count": 20,
   "id": "478e53e6-244e-4007-a155-b05be159d6ce",
   "metadata": {},
   "outputs": [
    {
     "data": {
      "image/png": "[encoded data removed]",
      "text/plain": [
       "<Figure size 640x480 with 2 Axes>"
      ]
     },
     "metadata": {},
     "output_type": "display_data"
    },
    {
     "data": {
      "text/plain": [
       "(<Figure size 640x480 with 2 Axes>,\n",
       " (<Axes: ylabel='$V^2$'>,\n",
       "  <Axes: xlabel='$\\\\rm Spatial$ $\\\\rm frequency$ [$\\\\rm rad^{-1}$]', ylabel='$\\\\rm Residual$'>))"
      ]
     },
     "execution_count": 20,
     "metadata": {},
     "output_type": "execute_result"
    }
   ],
   "source": [
    "plot_v2_fit(\n",
    "    data_dict=data_dict,\n",
    "    star=star,          # Your Star instance with theta, ldcR, etc., and .V2 method\n",
    "    line_spf=np.linspace(0.00001, 2.5e8, 1000),\n",
    "    set_axis = [0, 2.5e8, -0.05,1.1],\n",
    "    ldc_band='ldc_R',        # or 'ldcR', 'ldcH', etc.\n",
    "    datasets_to_plot=['pavo', 'vega', 'classic'],\n",
    "    plot_udmodel = True,\n",
    "    to_bin = ['pavo'],\n",
    "    eq_text=True,\n",
    "    show = True\n",
    ")"
   ]
  },
  {
   "cell_type": "code",
   "execution_count": null,
   "id": "af518267-db93-48a4-9cde-1698672b31bb",
   "metadata": {},
   "outputs": [],
   "source": []
  }
 ],
 "metadata": {
  "kernelspec": {
   "display_name": "Python 3 (ipykernel)",
   "language": "python",
   "name": "python3"
  },
  "language_info": {
   "codemirror_mode": {
    "name": "ipython",
    "version": 3
   },
   "file_extension": ".py",
   "mimetype": "text/x-python",
   "name": "python",
   "nbconvert_exporter": "python",
   "pygments_lexer": "ipython3",
   "version": "3.10.14"
  }
 },
 "nbformat": 4,
 "nbformat_minor": 5
}
